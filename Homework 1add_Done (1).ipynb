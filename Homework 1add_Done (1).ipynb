{
 "cells": [
  {
   "cell_type": "markdown",
   "id": "c567c3bc",
   "metadata": {},
   "source": [
    "<b><div style=\"text-align: center;font-size: 24px;\">Улюблена команда</div></b><br>\n",
    "    \n",
    "На вхід до програми подається рядок тексту – назва футбольної команди. Напишіть програму, яка повторює її на екрані зі словами \"- чемпіон!\" (без лапок).\n",
    "\n",
    "<b>Sample Input:</b><br>\n",
    "Барселона.<br>\n",
    "\n",
    "<b>Sample Output</b><br> \n",
    "Барселона – чемпіон!"
   ]
  },
  {
   "cell_type": "code",
   "execution_count": 5,
   "id": "d0034bd9",
   "metadata": {},
   "outputs": [
    {
     "name": "stdout",
     "output_type": "stream",
     "text": [
      "Enter your team's name: Динамо Київ\n",
      "\n",
      " Динамо Київ  - чемпіон!\n"
     ]
    }
   ],
   "source": [
    "team = input(\"Enter your team's name: \")\n",
    "print(\"\\n\", team, \" - чемпіон!\")"
   ]
  },
  {
   "cell_type": "markdown",
   "id": "f2864c44",
   "metadata": {},
   "source": [
    "<b><div style=\"text-align: center;font-size: 24px;\">Кастомний роздільник</div></b><br>\n",
    "    \n",
    "Напишіть програму, яка зчитує рядок-розділювач та три рядки, а потім виводить вказані рядки через роздільник.\n",
    "\n",
    "<b>Sample Input:</b><br>\n",
    "Money often  \n",
    "costs  \n",
    "too much  \n",
    "\n",
    "<b>Sample Output</b><br> \n",
    "Money often##costs##too much\n",
    "\n"
   ]
  },
  {
   "cell_type": "code",
   "execution_count": 7,
   "id": "877ca197",
   "metadata": {},
   "outputs": [
    {
     "name": "stdout",
     "output_type": "stream",
     "text": [
      "Enter your separator: &&\n",
      "Enter your first sentence: How to\n",
      "Enter your second sentence: count integrals\n",
      "Enter your third sentence: and lose all your friends\n",
      "\n",
      " How to && count integrals && and lose all your friends\n"
     ]
    }
   ],
   "source": [
    "separator = input(\"Enter your separator: \")\n",
    "\n",
    "a = input(\"Enter your first sentence: \")\n",
    "b = input(\"Enter your second sentence: \")\n",
    "c = input(\"Enter your third sentence: \")\n",
    "\n",
    "print(\"\\n\", a, separator, b, separator, c)"
   ]
  },
  {
   "cell_type": "markdown",
   "id": "88415bfc",
   "metadata": {},
   "source": [
    "<b><div style=\"text-align: center;font-size: 24px;\">Значення функції</div></b><br>\n",
    "    \n",
    "Напишіть програму обчислення значення функції 3(a + b)<sup>3</sup> + 275b<sup>2</sup> - 127a - 41 за введеними цілими значеннями a i b.\n",
    " \n",
    "<b>Sample Input:</b><br>\n",
    "1  \n",
    "1\n",
    "\n",
    "<b>Sample Output</b><br> \n",
    "131"
   ]
  },
  {
   "cell_type": "code",
   "execution_count": 8,
   "id": "ba578362",
   "metadata": {},
   "outputs": [
    {
     "name": "stdout",
     "output_type": "stream",
     "text": [
      "Enter your number a: 1\n",
      "Enter your number b: 1\n",
      "\n",
      " 131\n"
     ]
    }
   ],
   "source": [
    "a = int(input(\"Enter your number a: \"))\n",
    "b = int(input(\"Enter your number b: \"))\n",
    "\n",
    "c = 3 * (a + b) ** 3 + 275 * b **2 - 127 * a - 41\n",
    "print(\"\\n\", c)"
   ]
  },
  {
   "cell_type": "markdown",
   "id": "339cbf67",
   "metadata": {},
   "source": [
    "<b><div style=\"text-align: center;font-size: 24px;\">Арифметичні операції</div></b><br>\n",
    "    \n",
    "Напишіть програму, в якій обчислюється сума, різниця та добуток двох цілих чисел, введених з клавіатури.\n",
    " \n",
    "<b>Sample Input:</b><br>\n",
    "2  \n",
    "7\n",
    "\n",
    "<b>Sample Output</b><br> \n",
    "2 + 7 = 9  \n",
    "2 - 7 = -5  \n",
    "2 * 7 = 14\n",
    "\n",
    "\n"
   ]
  },
  {
   "cell_type": "code",
   "execution_count": 9,
   "id": "6519dbf9",
   "metadata": {},
   "outputs": [
    {
     "name": "stdout",
     "output_type": "stream",
     "text": [
      "Enter the first number: 3\n",
      "Enter the second number: 5\n",
      "3  +  5  =  8\n",
      "3  -  5  =  -2\n",
      "3  *  5  =  15\n"
     ]
    }
   ],
   "source": [
    "a = int(input(\"Enter the first number: \"))\n",
    "b = int(input(\"Enter the second number: \"))\n",
    "\n",
    "print(a, \" + \", b, \" = \", a + b)\n",
    "print(a, \" - \", b, \" = \", a - b )\n",
    "print(a, \" * \", b, \" = \", a * b)"
   ]
  },
  {
   "cell_type": "markdown",
   "id": "90916856",
   "metadata": {},
   "source": [
    "<b><div style=\"text-align: center;font-size: 24px;\">Розділяй і володарюй</div></b><br>\n",
    "    \n",
    "Напишіть програму, яка зчитує ціле позитивне число x та виводить на екран послідовність чисел\n",
    "x, 2x, 3x, 4x та 5x, розділених трьома рисочками.\n",
    " \n",
    "<b>Sample Input:</b><br>\n",
    "7\n",
    "\n",
    "<b>Sample Output</b><br> \n",
    "7---14---21---28---35\n",
    "\n",
    "\n",
    "\n",
    "\n",
    "\n"
   ]
  },
  {
   "cell_type": "code",
   "execution_count": 10,
   "id": "dcd1add7",
   "metadata": {},
   "outputs": [
    {
     "name": "stdout",
     "output_type": "stream",
     "text": [
      "Enter your number: 11\n",
      "11 --- 22 --- 33 --- 44 --- 55\n"
     ]
    }
   ],
   "source": [
    "x = int(input(\"Enter your number: \"))\n",
    "\n",
    "print(x, \"---\", 2 * x, \"---\", 3 * x, \"---\", 4 * x, \"---\", 5 * x)"
   ]
  },
  {
   "cell_type": "markdown",
   "id": "aceb7d47",
   "metadata": {},
   "source": [
    "<b><div style=\"text-align: center;font-size: 24px;\">Тризначне число</div></b><br>\n",
    "    \n",
    "Напишіть програму, в якій розраховується сума та добуток цифр позитивного тризначного числа.\n",
    " \n",
    "<b>Sample Input:</b><br>\n",
    "333\n",
    "\n",
    "<b>Sample Output</b><br> \n",
    "Сума цифр = 9  \n",
    "Добуток цифр = 27\n",
    "\n",
    "\n",
    "\n",
    "\n",
    "\n",
    "\n",
    "\n",
    "\n"
   ]
  },
  {
   "cell_type": "code",
   "execution_count": 13,
   "id": "ee5049a2",
   "metadata": {},
   "outputs": [
    {
     "name": "stdout",
     "output_type": "stream",
     "text": [
      "Enter your 3-digits number: 333\n",
      "Сума цифр:  9\n",
      "Добуток цифр:  27\n"
     ]
    }
   ],
   "source": [
    "a = input(\"Enter your 3-digits number: \")\n",
    "\n",
    "suma = 0\n",
    "mult = 1\n",
    "\n",
    "if (int(a) > 0):\n",
    "    for i in a:\n",
    "        suma += int(i)\n",
    "        mult *= int(i)\n",
    "    print(\"Сума цифр: \", suma)\n",
    "    print(\"Добуток цифр: \", mult)\n",
    "else:\n",
    "    print(\"Your number should be greater than 0\")"
   ]
  },
  {
   "cell_type": "markdown",
   "id": "6a2fbb7d",
   "metadata": {},
   "source": [
    "<b><div style=\"text-align: center;font-size: 24px;\">Чотиризначна кількість</div></b><br>\n",
    "    \n",
    "Напишіть програму для знаходження цифр чотиризначного числа.\n",
    " \n",
    "<b>Sample Input:</b><br>\n",
    "3281\n",
    "\n",
    "<b>Sample Output</b><br> \n",
    "Цифра в позиції тисяч дорівнює 3  \n",
    "Цифра в позиції сотень дорівнює 2  \n",
    "Цифра в позиції десятків дорівнює 8  \n",
    "Цифра позиції одиниць дорівнює 1"
   ]
  },
  {
   "cell_type": "code",
   "execution_count": 23,
   "id": "a056eb87",
   "metadata": {},
   "outputs": [
    {
     "name": "stdout",
     "output_type": "stream",
     "text": [
      "Enter your 4-digits number: -1965\n",
      "Число від'ємне\n",
      "\n",
      "Цифра в позиції  тисяч дорівнює 1\n",
      "\n",
      "Цифра в позиції  сотень дорівнює 9\n",
      "\n",
      "Цифра в позиції  десятків дорівнює 6\n",
      "\n",
      "Цифра в позиції  одиниць дорівнює 5\n"
     ]
    }
   ],
   "source": [
    "a = input(\"Enter your 4-digits number: \")\n",
    "pos = [\"Число від'ємне\", 'тисяч', 'сотень', 'десятків', 'одиниць']\n",
    "j = 1\n",
    "for i in a:\n",
    "    if (i == \"-\"):\n",
    "        print(pos[0])\n",
    "    else:\n",
    "        print(\"\\nЦифра в позиції \", pos[j], \"дорівнює\", i)\n",
    "        j += 1"
   ]
  }
 ],
 "metadata": {
  "kernelspec": {
   "display_name": "Python 3 (ipykernel)",
   "language": "python",
   "name": "python3"
  },
  "language_info": {
   "codemirror_mode": {
    "name": "ipython",
    "version": 3
   },
   "file_extension": ".py",
   "mimetype": "text/x-python",
   "name": "python",
   "nbconvert_exporter": "python",
   "pygments_lexer": "ipython3",
   "version": "3.8.12"
  }
 },
 "nbformat": 4,
 "nbformat_minor": 5
}
