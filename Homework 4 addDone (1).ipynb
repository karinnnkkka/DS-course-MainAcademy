{
 "cells": [
  {
   "cell_type": "markdown",
   "id": "693dc9e9",
   "metadata": {},
   "source": [
    "<b><div style=\"text-align: center;font-size: 24px;\">Послідовність чисел 2 🌶️</div></b><br>\n",
    "    \n",
    "Дано два цілих числа m і n. Напишіть програму, яка виводить усі числа від m до n включно у порядку зростання, якщо m<n, або у порядку спадання в іншому випадку.\n",
    "\n",
    "<b>Sample Input 1</b><br>\n",
    "1\n",
    "5\n",
    "\n",
    "<b>Sample Output 1</b><br> \n",
    "1\n",
    "2\n",
    "3\n",
    "4\n",
    "5\n",
    "\n",
    "<br><br>\n",
    "<b>Sample Input 2</b><br>\n",
    "7\n",
    "3\n",
    "\n",
    "<b>Sample Output 2</b><br> \n",
    "7\n",
    "6\n",
    "5\n",
    "4\n",
    "3"
   ]
  },
  {
   "cell_type": "code",
   "execution_count": 5,
   "id": "0ba527df",
   "metadata": {},
   "outputs": [
    {
     "name": "stdout",
     "output_type": "stream",
     "text": [
      "Enter your number: 7\n",
      "Enter your number: 3\n",
      "7\n",
      "6\n",
      "5\n",
      "4\n",
      "3\n"
     ]
    }
   ],
   "source": [
    "m = int(input(\"Enter your number: \"))\n",
    "n = int(input(\"Enter your number: \"))\n",
    "\n",
    "if (m < n):\n",
    "    for i in range(m, n+1, 1):\n",
    "        print(i)\n",
    "else:\n",
    "    for i in range(n, m+1, 1):\n",
    "        print(m)\n",
    "        m -= 1"
   ]
  },
  {
   "cell_type": "markdown",
   "id": "05c4d420",
   "metadata": {},
   "source": [
    "<b><div style=\"text-align: center;font-size: 24px;\">Сума дільників</div></b><br>\n",
    "    \n",
    "На вхід програмі подається натуральне число n. Напишіть програму, яка обчислює суму всіх дільників.\n",
    "\n",
    "<b>Sample Input</b><br>\n",
    "10\n",
    "\n",
    "<b>Sample Output</b><br> \n",
    "18\n"
   ]
  },
  {
   "cell_type": "code",
   "execution_count": 7,
   "id": "f560c242",
   "metadata": {},
   "outputs": [
    {
     "name": "stdout",
     "output_type": "stream",
     "text": [
      "Enter your number: 10\n",
      "18\n"
     ]
    }
   ],
   "source": [
    "n = int(input(\"Enter your number: \"))\n",
    "suma = 0\n",
    "\n",
    "if (n == 0):\n",
    "    print(0)\n",
    "else:\n",
    "    for i in range (1, n+1, 1):\n",
    "        if (n % i == 0):\n",
    "            suma += i\n",
    "        else:\n",
    "            continue\n",
    "print(suma)"
   ]
  },
  {
   "cell_type": "markdown",
   "id": "de3582e9",
   "metadata": {},
   "source": [
    "<b><div style=\"text-align: center;font-size: 24px;\">Найбільші числа 🌶️🌶️</div></b><br>\n",
    "    \n",
    "На вхід програмі подається натуральне число n, а потім n різних натуральних чисел послідовності, кожне на окремому рядку. Напишіть програму, яка виводить найбільше та друге найбільше число послідовності.\n",
    "\n",
    "<b>Sample Input</b><br>\n",
    "5  \n",
    "\n",
    "1  \n",
    "2  \n",
    "3  \n",
    "4  \n",
    "5  \n",
    "\n",
    "<b>Sample Output</b><br> \n",
    "4  \n",
    "5\n",
    "\n",
    "\n",
    "\n"
   ]
  },
  {
   "cell_type": "code",
   "execution_count": 20,
   "id": "584227c5",
   "metadata": {},
   "outputs": [
    {
     "name": "stdout",
     "output_type": "stream",
     "text": [
      "Enter quantity: 5\n",
      "Enter the number: 3\n",
      "Enter the number: 1\n",
      "Enter the number: 4\n",
      "Enter the number: 2\n",
      "Enter the number: 5\n",
      "4\n",
      "5\n"
     ]
    }
   ],
   "source": [
    "n = int(input(\"Enter quantity: \"))\n",
    "max1 = 0\n",
    "max2 = 0\n",
    "\n",
    "if (n > 0):\n",
    "    for i in range (n):\n",
    "        i = int(input(\"Enter the number: \"))\n",
    "        if (i > max1):\n",
    "            max1 = i\n",
    "            temp = max1\n",
    "        if (i > max2):\n",
    "            max1 = max2\n",
    "            max2 = temp\n",
    "else:\n",
    "    print(\"\\nInvalid\")\n",
    "\n",
    "k = [max1 , max2]\n",
    "\n",
    "for i in k:\n",
    "    print(i)"
   ]
  },
  {
   "cell_type": "markdown",
   "id": "a895c567",
   "metadata": {},
   "source": [
    "<b><div style=\"text-align: center;font-size: 24px;\">Послідовність Фібоначчі 🌶️</div></b><br>\n",
    "    \n",
    "Напишіть програму, яка зчитує натуральне число n і виводить перші n чисел послідовності Фібоначчі.\n",
    "\n",
    "<b>Примітка.</b> Послідовність Фібоначчі – це послідовність натуральних чисел, де кожне наступне число є сумою двох попередніх:\n",
    "\n",
    "<b>Sample Input</b><br>\n",
    "5   \n",
    "\n",
    "<b>Sample Output</b><br> \n",
    "1 1 2 3 5\n",
    "\n",
    "\n",
    "\n",
    "\n",
    "\n",
    "\n"
   ]
  },
  {
   "cell_type": "code",
   "execution_count": 49,
   "id": "b2481b7e",
   "metadata": {},
   "outputs": [
    {
     "name": "stdout",
     "output_type": "stream",
     "text": [
      "Enter your number: 8\n",
      "1\n",
      "1\n",
      "2\n",
      "3\n",
      "5\n",
      "8\n",
      "13\n",
      "21\n"
     ]
    }
   ],
   "source": [
    "n = int(input(\"Enter your number: \"))\n",
    "\n",
    "a = 1\n",
    "b = 1\n",
    "\n",
    "print (a)\n",
    "print(b)\n",
    "for i in range (2,n,1):\n",
    "    print(a+b)\n",
    "    b = a+b\n",
    "    a = b- a\n",
    "    "
   ]
  },
  {
   "cell_type": "markdown",
   "id": "ea2d3f9e",
   "metadata": {},
   "source": [
    "<b><div style=\"text-align: center;font-size: 24px;\">Дотримуйся правил</div></b><br>\n",
    "    \n",
    "На вхід програмі подається натуральне число n. Напишіть програму, яка виводить числа від 1 до n включно за винятком: \n",
    "\n",
    "- чисел від 5 до 9 включно; \n",
    "- чисел від 17 до 37 включно; \n",
    "- чисел від 78 до 87 включно.\n",
    "\n",
    "<b>Примітка.</b> Використовуйте оператор continue.\n",
    "\n",
    "<b>Sample Input</b><br>\n",
    "20  \n",
    "\n",
    "<b>Sample Output</b><br> \n",
    "1  \n",
    "2  \n",
    "3  \n",
    "4  \n",
    "10  \n",
    "11  \n",
    "12  \n",
    "13  \n",
    "14  \n",
    "15  \n",
    "16  \n",
    "\n",
    "\n",
    "\n"
   ]
  },
  {
   "cell_type": "code",
   "execution_count": 52,
   "id": "9185104a",
   "metadata": {},
   "outputs": [
    {
     "name": "stdout",
     "output_type": "stream",
     "text": [
      "Enter your number: 39\n",
      "1\n",
      "2\n",
      "3\n",
      "4\n",
      "10\n",
      "11\n",
      "12\n",
      "13\n",
      "14\n",
      "15\n",
      "16\n",
      "38\n"
     ]
    }
   ],
   "source": [
    "n = int(input(\"Enter your number: \"))\n",
    "\n",
    "for i in range (1,n):\n",
    "    if((1 <= i <= 4) | (10 <= i <= 16) | (38 <= i <= 77) | (i > 87)):\n",
    "        print(i)\n",
    "    else:\n",
    "        i += 1"
   ]
  },
  {
   "cell_type": "markdown",
   "id": "5a6cba25",
   "metadata": {},
   "source": [
    "<b><div style=\"text-align: center;font-size: 24px;\">Всі разом</div></b><br>\n",
    "    \n",
    "Дано натуральне число. Напишіть програму, яка обчислює:\n",
    "\n",
    "- кількість цифр 3 у ньому;\n",
    "- скільки разів у ньому зустрічається остання цифра;\n",
    "- кількість парних цифр;\n",
    "- суму його цифр, більших за п'ять;\n",
    "- добуток цифр, більших семи (якщо цифр більших семи немає, то вивести 1, якщо така цифра одна, то вивести її);\n",
    "- скільки разів у ньому зустрічається цифри 0 та 5 (всього сумарно).\n",
    "\n",
    "\n",
    "<b>Sample Input</b><br>\n",
    "56689932106  \n",
    "\n",
    "<b>Sample Output</b><br> \n",
    "1  \n",
    "3  \n",
    "6  \n",
    "44  \n",
    "648  \n",
    "2   \n",
    "\n",
    "\n",
    "\n",
    "\n",
    "\n",
    "\n",
    "\n",
    "\n",
    "\n"
   ]
  },
  {
   "cell_type": "code",
   "execution_count": 61,
   "id": "298f3e6a",
   "metadata": {},
   "outputs": [
    {
     "name": "stdout",
     "output_type": "stream",
     "text": [
      "Enter your n: 56689932106\n",
      "1\n",
      "3\n",
      "6\n",
      "44\n",
      "648\n",
      "2\n"
     ]
    }
   ],
   "source": [
    "n = input(\"Enter your n: \")\n",
    "counter_3 = 0\n",
    "counter_last = 0\n",
    "suma_5 = 0\n",
    "suma = 0\n",
    "mult7 = 1\n",
    "suma05 = 0\n",
    "k = len(n)\n",
    "last = n[k-1]\n",
    "for i in n:\n",
    "    if(int(i) == 3):\n",
    "        counter_3 += 1\n",
    "    if(int(i) % 2 == 0):\n",
    "        suma +=1\n",
    "    if (int(i) > 5):\n",
    "        suma_5 += int(i)\n",
    "    if (int(i) > 7):\n",
    "        mult7 *= int(i) \n",
    "    if ((int(i) == 5) |(int(i) == 0)):\n",
    "        suma05 +=1\n",
    "    if (int(i) == int(last)):\n",
    "        counter_last += 1\n",
    "\n",
    "print(counter_3)\n",
    "print(counter_last)\n",
    "print(suma)\n",
    "print(suma_5)\n",
    "print(mult7)\n",
    "print(suma05)"
   ]
  },
  {
   "cell_type": "markdown",
   "id": "13d6cd6a",
   "metadata": {},
   "source": [
    "<b><div style=\"text-align: center;font-size: 24px;\">Цікавинка 🌶️</div></b><br>\n",
    "\n",
    "Вибір елементів, сума яких є парним числом. \n",
    "\n",
    "<b>Sample Input</b><br>\n",
    "[10, 20, 30, 40, 50]  \n",
    "[3, 6, 9, 12, 15]\n",
    "  \n",
    "\n",
    "<b>Sample Output</b><br> \n",
    "[(20, 6), (40, 12)]"
   ]
  },
  {
   "cell_type": "code",
   "execution_count": 79,
   "id": "367e939d",
   "metadata": {},
   "outputs": [
    {
     "name": "stdout",
     "output_type": "stream",
     "text": [
      "Enter length: 3\n",
      "Number: 7\n",
      "Number: 3\n",
      "Number: 9\n",
      "[7, 3, 9]\n",
      "Number: 3\n",
      "Number: 6\n",
      "Number: 5\n",
      "[3, 6, 5]\n",
      "( 7 , 3 )\n",
      "( 9 , 5 )\n"
     ]
    }
   ],
   "source": [
    "l = int(input(\"Enter length: \"))\n",
    "m1 = []\n",
    "m2 = []\n",
    "out = []\n",
    "for i in range (l):\n",
    "    i = int(input(\"Number: \"))\n",
    "    m1.append(i)\n",
    "print(m1)\n",
    "for j in range (l):\n",
    "    j = int(input(\"Number: \"))\n",
    "    m2.append(j)\n",
    "print(m2)\n",
    "for k in range (l):\n",
    "    if((m1[k]+m2[k])%2==0):\n",
    "        out.append(m1[k])\n",
    "        out.append(m2[k])\n",
    "n = 0\n",
    "while (n < (len(out))):\n",
    "    print('(', out[n], ',', out[n+1], ')')\n",
    "    n += 2"
   ]
  }
 ],
 "metadata": {
  "kernelspec": {
   "display_name": "Python 3 (ipykernel)",
   "language": "python",
   "name": "python3"
  },
  "language_info": {
   "codemirror_mode": {
    "name": "ipython",
    "version": 3
   },
   "file_extension": ".py",
   "mimetype": "text/x-python",
   "name": "python",
   "nbconvert_exporter": "python",
   "pygments_lexer": "ipython3",
   "version": "3.8.12"
  }
 },
 "nbformat": 4,
 "nbformat_minor": 5
}
