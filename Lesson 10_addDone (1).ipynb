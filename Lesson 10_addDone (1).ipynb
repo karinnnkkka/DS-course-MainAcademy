{
 "cells": [
  {
   "cell_type": "markdown",
   "id": "9cf0ed16",
   "metadata": {},
   "source": [
    "<b><div style=\"text-align: center;font-size: 24px;\">Книги на прочитання 🌶️</div></b><br>\n",
    "\n",
    "Учні 10 класу онлайн-школи отримали завдання прочитати на літніх канікулах три книги:\n",
    "\n",
    "- \"Що таке математика?\";\n",
    "- \"Математична складова\";\n",
    "- \"100 геніальних ідей з математики\".\n",
    "\n",
    "Виявилося що n учнів прочитали першу книгу m учнів - другу, k учнів - третю. Також відомо, що x учнів прочитали першу чи другу, або обидві ці книги, y учнів - другу або третю, або обидві, z учнів — першу та третю, або хоча б одну з цих двох книг. Повністю виконали завдання лише t учнів. Всього в 10 класі вчиться a учнів. Напишіть програму, яка виводить скільки учнів:\n",
    "\n",
    "- прочитали лише одну книгу;\n",
    "- прочитали дві книги;\n",
    "- не прочитали жодної із рекомендованих книг.\n",
    "\n",
    "**Формат вхідних даних**\n",
    "На вхід до програми подаються числа n,m,k,x,y,z,t,a, кожне на окремому рядку.\n",
    "\n",
    "**Формат вихідних даних**\n",
    "Програма повинна вивести три числа відповідно до умови завдання, кожне на окремому рядку.\n",
    "\n",
    "\n",
    "\n",
    "\n",
    "<b>Sample Input</b><br>\n",
    "19  \n",
    "18   \n",
    "22  \n",
    "32  \n",
    "33  \n",
    "35  \n",
    "2  \n",
    "50    \n",
    "\n",
    "<b>Sample Output</b><br> \n",
    "29  \n",
    "12  \n",
    "7  \n",
    "\n",
    "\n",
    "\n"
   ]
  },
  {
   "cell_type": "code",
   "execution_count": 41,
   "id": "daf55784",
   "metadata": {},
   "outputs": [
    {
     "name": "stdout",
     "output_type": "stream",
     "text": [
      "Кількість учнів, що прочитали першу книгу: 19\n",
      "Кількість учнів, що прочитали другу книгу: 18\n",
      "Кількість учнів, що прочитали третю книгу: 22\n",
      "Кількість учнів що прочитали першу/другу або обидві ці книги: 32\n",
      "Кількість учнів, які проситали другу/третю або обидві книги: 33\n",
      "Кількість учнів, що прочитали першу/третю або обидві книги: 35\n",
      "Кількість учнів, що повністю виконали завдання: 2\n",
      "Кількість учнів у класі: 50\n",
      "Кількість учнів, що прочитали тільки одну книгу:  29\n",
      "Кількість учнів, що прочитали дві книги:  12\n",
      "Кількість учнів, що не прочитали книги взагалі:  7\n"
     ]
    }
   ],
   "source": [
    "n = int(input('Кількість учнів, що прочитали першу книгу: '))\n",
    "m = int(input('Кількість учнів, що прочитали другу книгу: '))\n",
    "k = int(input('Кількість учнів, що прочитали третю книгу: '))\n",
    "x = int(input('Кількість учнів що прочитали першу/другу або обидві ці книги: '))\n",
    "y = int(input('Кількість учнів, які проситали другу/третю або обидві книги: '))\n",
    "z = int(input('Кількість учнів, що прочитали першу/третю або обидві книги: '))\n",
    "t = int(input('Кількість учнів, що повністю виконали завдання: '))\n",
    "a = int(input('Кількість учнів у класі: '))\n",
    "\n",
    "\n",
    "fs = m + n - x - t\n",
    "st = m + k - y - t\n",
    "ft = n + k - z - t\n",
    "print('Кількість учнів, що прочитали тільки одну книгу: ', n - fs - ft - t + m - fs - st - t + k - st - ft - t)\n",
    "print('Кількість учнів, що прочитали дві книги: ', fs + st + ft)\n",
    "print('Кількість учнів, що не прочитали книги взагалі: ', a - fs - st - ft - t - (n - fs - ft - t + m - fs - st - t + k - st - ft - t))"
   ]
  },
  {
   "cell_type": "markdown",
   "id": "ad0d057b",
   "metadata": {},
   "source": [
    "<b><div style=\"text-align: center;font-size: 24px;\">Кількість різних символів</div></b><br>\n",
    "\n",
    "На вхід до програми подається рядок тексту. Напишіть програму, яка визначає кількість різних символів у рядку.\n",
    "\n",
    "<b>Sample Input</b><br>\n",
    "12345678910  \n",
    "\n",
    "<b>Sample Output</b><br> \n",
    "10\n",
    "\n",
    "\n",
    "\n"
   ]
  },
  {
   "cell_type": "code",
   "execution_count": 7,
   "id": "734351a2",
   "metadata": {},
   "outputs": [
    {
     "name": "stdout",
     "output_type": "stream",
     "text": [
      "Enter the line of numbers: 123445577\n",
      "6\n"
     ]
    }
   ],
   "source": [
    "n = input('Enter the line of numbers: ')\n",
    "\n",
    "check = []\n",
    "counter = 0\n",
    "for i in n:\n",
    "    counter += 1\n",
    "    if i in check:\n",
    "        counter -= 1\n",
    "    check.append(i)        \n",
    "print(counter)"
   ]
  },
  {
   "cell_type": "code",
   "execution_count": 8,
   "id": "b9fefe44",
   "metadata": {},
   "outputs": [
    {
     "name": "stdout",
     "output_type": "stream",
     "text": [
      "Enter the line of numbers: 12345678910\n",
      "10\n"
     ]
    }
   ],
   "source": [
    "n = input('Enter the line of numbers: ')\n",
    "\n",
    "res = list(set(n))\n",
    "\n",
    "print(len(res))"
   ]
  },
  {
   "cell_type": "markdown",
   "id": "7bc83ab0",
   "metadata": {},
   "source": [
    "<b><div style=\"text-align: center;font-size: 24px;\">Неповторні цифри</div></b><br>\n",
    "\n",
    "На вхід до програми подається рядок, що складається з цифр. Потрібно визначити, чи правильно, що в її записі жодна з цифр не повторюється?\n",
    "\n",
    "<b>Sample Input 1</b><br>\n",
    "1093482\n",
    "\n",
    "<b>Sample Output 1</b><br> \n",
    "YES\n",
    "\n",
    "<br><br>\n",
    "\n",
    "<b>Sample Input 2</b><br>\n",
    "3445321290\n",
    "\n",
    "<b>Sample Output 2</b><br> \n",
    "NO\n",
    "\n",
    "\n",
    "\n"
   ]
  },
  {
   "cell_type": "code",
   "execution_count": 10,
   "id": "4a5c6899",
   "metadata": {},
   "outputs": [
    {
     "name": "stdout",
     "output_type": "stream",
     "text": [
      "Enter the line of numbers: 192892393\n",
      "NO\n"
     ]
    }
   ],
   "source": [
    "n = input('Enter the line of numbers: ')\n",
    "\n",
    "check = list(set(n))\n",
    "if len(check) == len(n):\n",
    "    print('YES')\n",
    "else:\n",
    "    print('NO')"
   ]
  },
  {
   "cell_type": "markdown",
   "id": "d76eef68",
   "metadata": {},
   "source": [
    "<b><div style=\"text-align: center;font-size: 24px;\">Однакові набори</div></b><br>\n",
    "\n",
    "На вхід до програми подаються два рядки, що складаються з цифр. Потрібно визначити, чи правильно, що для запису цих рядків були використані однакові набори цифр?\n",
    "\n",
    "<b>Sample Input</b><br>\n",
    "0943  \n",
    "9304  \n",
    "\n",
    "<b>Sample Output</b><br> \n",
    "YES\n",
    "\n",
    "\n",
    "\n",
    "\n"
   ]
  },
  {
   "cell_type": "code",
   "execution_count": 14,
   "id": "5871d6c8",
   "metadata": {},
   "outputs": [
    {
     "name": "stdout",
     "output_type": "stream",
     "text": [
      "Enter the first line: 1245567\n",
      "Enter the second line: 5765241\n",
      "YES\n"
     ]
    }
   ],
   "source": [
    "n = input('Enter the first line: ')\n",
    "m = input('Enter the second line: ')\n",
    "\n",
    "checkn = set(n)\n",
    "checkm = set(m)\n",
    "\n",
    "if checkn == checkm:\n",
    "    print('YES')\n",
    "else:\n",
    "    print('NO')"
   ]
  },
  {
   "cell_type": "markdown",
   "id": "c37d04bb",
   "metadata": {},
   "source": [
    "<b><div style=\"text-align: center;font-size: 24px;\">Чи зустрічалося число раніше?</div></b><br>\n",
    "\n",
    "На вхід до програми подається рядок тексту, що містить числа. Для кожного числа виведіть слово YES (в окремому рядку), якщо це число раніше зустрічалося в послідовності або NO, якщо не траплялося.\n",
    "\n",
    "<b>Sample Input</b><br>\n",
    "1 1 2 2 5 5 5 5 6 7 8 \n",
    "\n",
    "<b>Sample Output</b><br> \n",
    "NO  \n",
    "YES  \n",
    "NO  \n",
    "YES  \n",
    "NO  \n",
    "YES  \n",
    "YES  \n",
    "YES  \n",
    "NO  \n",
    "NO  \n",
    "NO  \n",
    "\n",
    "\n",
    "\n",
    "\n"
   ]
  },
  {
   "cell_type": "code",
   "execution_count": 16,
   "id": "cd4da9de",
   "metadata": {},
   "outputs": [
    {
     "name": "stdout",
     "output_type": "stream",
     "text": [
      "Enter the libe of numbers without spaces: 112233445678\n",
      "NO\n",
      "YES\n",
      "NO\n",
      "YES\n",
      "NO\n",
      "YES\n",
      "NO\n",
      "YES\n",
      "NO\n",
      "NO\n",
      "NO\n",
      "NO\n"
     ]
    }
   ],
   "source": [
    "n = input('Enter the libe of numbers without spaces: ')\n",
    "\n",
    "a = []\n",
    "for i in n:\n",
    "    if i not in a:\n",
    "        print( 'NO')\n",
    "    else:\n",
    "        print('YES')\n",
    "    a.append(i)"
   ]
  },
  {
   "cell_type": "markdown",
   "id": "a89d6c74",
   "metadata": {},
   "source": [
    "<b><div style=\"text-align: center;font-size: 24px;\">Загальні числа</div></b><br>\n",
    "\n",
    "На вхід до програми подаються два рядки тексту, що містять числа. Напишіть програму, яка виводить усі числа у порядку зростання, які є як у першому рядку, так і у другому.\n",
    "\n",
    "<b>Sample Input</b><br>\n",
    "1 2 3  \n",
    "1 2 4 5  \n",
    "\n",
    "<b>Sample Output</b><br> \n",
    "1 2\n",
    "\n"
   ]
  },
  {
   "cell_type": "code",
   "execution_count": 38,
   "id": "811cbbe1",
   "metadata": {},
   "outputs": [
    {
     "name": "stdout",
     "output_type": "stream",
     "text": [
      "Enter the first line: 123\n",
      "Enter the second line: 1245\n",
      "1\n",
      "2\n"
     ]
    }
   ],
   "source": [
    "n = input('Enter the first line: ')\n",
    "m = input('Enter the second line: ')\n",
    "\n",
    "a = []\n",
    "for i in set(n):\n",
    "    if (i in set(m)) & (i not in a):\n",
    "        a.append(i)\n",
    "\n",
    "for _ in a:\n",
    "    _ = int(_)\n",
    "    \n",
    "for i in sorted(a):\n",
    "    print(i)\n"
   ]
  },
  {
   "cell_type": "markdown",
   "id": "4f9973c7",
   "metadata": {},
   "source": [
    "<b><div style=\"text-align: center;font-size: 24px;\">Схід</div></b><br>\n",
    "\n",
    "На супутнику \"Схід\" встановлений прилад для вимірювання сонячної активності. Щохвилини він передає в обсерваторію каналом зв'язку позитивне ціле число — кількість енергії сонячного випромінювання. Для правильного аналізу результатів немає необхідності тримати дані, що повторюються. Напишіть програму, яка виводить максимальну кількість свідчень супутника, при видаленні яких результат буде правильно проаналізовано.\n",
    "\n",
    "<b>Sample Input</b><br>\n",
    "10 20 30 10 40\n",
    "\n",
    "<b>Sample Output</b><br> \n",
    "1\n",
    "\n"
   ]
  },
  {
   "cell_type": "code",
   "execution_count": 33,
   "id": "3666d4ce",
   "metadata": {},
   "outputs": [
    {
     "name": "stdout",
     "output_type": "stream",
     "text": [
      "Enter a list of evidences with spaces: 10 10 10 30 40 30 50 50 60\n",
      "4\n"
     ]
    }
   ],
   "source": [
    "n = input('Enter a list of evidences with spaces: ').split(' ')\n",
    "a = list(set(n))\n",
    "\n",
    "print(len(n) - len(a))"
   ]
  },
  {
   "cell_type": "markdown",
   "id": "0a4fc8e6",
   "metadata": {},
   "source": [
    "<b><div style=\"text-align: center;font-size: 24px;\">Книги на прочитання</div></b><br>\n",
    "\n",
    "Руслан отримав наприкінці навчального року список літератури на літо. Тепер йому треба з'ясувати, які книги з цього списку має. У Руслана на комп'ютері в текстовому файлі записані всі книги з його домашньої бібліотеки випадково.\n",
    "\n",
    "Напишіть програму, яка визначає для кожної книги зі списку на прочитання, є вона у Руслана чи ні.\n",
    "\n",
    "**Формат вхідних даних**\n",
    "На вхід програмі в першому рядку подається натуральне число m – кількість книг у домашній бібліотеці Руслана. У другому рядку записано натуральне число n - кількість книг у списку на літо. Далі йдуть m рядків з назвами книг із домашньої бібліотеки та n рядків назв зі списку на літо.\n",
    "\n",
    "**Формат вихідних даних**\n",
    "Програма має вивести n рядків, у кожному з яких написано слово YES, якщо книга знайдена у бібліотеці, та NO, якщо ні.\n",
    "\n",
    "<b>Sample Input</b><br>\n",
    "4  \n",
    "4  \n",
    "Хобіт  \n",
    "Аліса в країні чудес  \n",
    "Том Сойєр  \n",
    "Острів скарбів  \n",
    "Буратіно  \n",
    "Хобіт  \n",
    "Острів скарбів  \n",
    "Війна і мир   \n",
    "\n",
    "<b>Sample Output</b><br> \n",
    "NO  \n",
    "YES  \n",
    "YES  \n",
    "NO  \n"
   ]
  },
  {
   "cell_type": "code",
   "execution_count": 37,
   "id": "be5bf28f",
   "metadata": {},
   "outputs": [
    {
     "name": "stdout",
     "output_type": "stream",
     "text": [
      "Enter the number of books in Ruslan's library: 3\n",
      "Enter the number of bookd from summer list: 5\n",
      "Enter the title of the book which Ruslan has: перетворення\n",
      "Enter the title of the book which Ruslan has: буратіно\n",
      "Enter the title of the book which Ruslan has: хіба ревуть воли як ясла повні\n",
      "Enter the title of the book from summer list: Буратіно\n",
      "Enter the title of the book from summer list: якась невідома кнгиа\n",
      "Enter the title of the book from summer list: Перетворення\n",
      "Enter the title of the book from summer list: Перевтілення\n",
      "Enter the title of the book from summer list: їжа просто і швидко\n",
      "YES\n",
      "NO\n",
      "YES\n",
      "NO\n",
      "NO\n"
     ]
    }
   ],
   "source": [
    "m = int(input(\"Enter the number of books in Ruslan's library: \"))\n",
    "n = int(input(\"Enter the number of bookd from summer list: \"))\n",
    "\n",
    "summer = []\n",
    "ruslan = []\n",
    "\n",
    "for i in range(m):\n",
    "    i = input('Enter the title of the book which Ruslan has: ').upper()\n",
    "    ruslan.append(i)\n",
    "    \n",
    "for j in range(n):\n",
    "    j = input('Enter the title of the book from summer list: ').upper()\n",
    "    summer.append(j)\n",
    "    \n",
    "for i in summer:\n",
    "    if i in ruslan:\n",
    "        print('YES')\n",
    "    else:\n",
    "        print('NO')"
   ]
  }
 ],
 "metadata": {
  "kernelspec": {
   "display_name": "Python 3 (ipykernel)",
   "language": "python",
   "name": "python3"
  },
  "language_info": {
   "codemirror_mode": {
    "name": "ipython",
    "version": 3
   },
   "file_extension": ".py",
   "mimetype": "text/x-python",
   "name": "python",
   "nbconvert_exporter": "python",
   "pygments_lexer": "ipython3",
   "version": "3.8.12"
  }
 },
 "nbformat": 4,
 "nbformat_minor": 5
}
