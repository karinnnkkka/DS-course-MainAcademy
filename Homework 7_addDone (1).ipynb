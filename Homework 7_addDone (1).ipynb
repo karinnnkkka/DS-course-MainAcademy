{
 "cells": [
  {
   "cell_type": "markdown",
   "id": "ac677a6d",
   "metadata": {},
   "source": [
    "<b><div style=\"text-align: center;font-size: 24px;\">ПІБ</div></b><br>\n",
    "\n",
    "Напишіть функцію print_fio(name, surname, patronymic), яка приймає три параметри:\n",
    "\n",
    "name – ім'я людини;\n",
    "surname – прізвище людини;\n",
    "patronymic - по-батькові людини;\n",
    "а потім виводить на друк ПІБ людини.\n",
    "\n",
    "**Примітка.** Передбачте той факт, що всі три літери у ПІБ повинні мати верхній регістр.\n",
    "\n",
    "\n",
    "<b>Sample Input </b><br>\n",
    "тимур\n",
    "Гуєв\n",
    "ахсарбекович\n",
    "\n",
    "<b>Sample Output</b><br> \n",
    "ГТА\n",
    "\n"
   ]
  },
  {
   "cell_type": "code",
   "execution_count": 2,
   "id": "0cfc307f",
   "metadata": {},
   "outputs": [
    {
     "name": "stdout",
     "output_type": "stream",
     "text": [
      "Enter your name: Володимир\n",
      "Enter your surname: петренко\n",
      "Enter your patronymic: олексійович\n",
      "П В О"
     ]
    }
   ],
   "source": [
    "def print_fio(name, surname, patronymic):\n",
    "    name = name.title()\n",
    "    surname = surname.title()\n",
    "    patronymic = patronymic.title()\n",
    "    print(surname[0],name[0],patronymic[0], end='')\n",
    "    \n",
    "a = input('Enter your name: ')\n",
    "b = input('Enter your surname: ')\n",
    "c = input('Enter your patronymic: ')\n",
    "print_fio(a,b,c)"
   ]
  },
  {
   "cell_type": "markdown",
   "id": "d7dbd44f",
   "metadata": {},
   "source": [
    "<b><div style=\"text-align: center;font-size: 24px;\">Сума цифр</div></b><br>\n",
    "\n",
    "Напишіть функцію print_digit_sum(), яка приймає одне ціле число num та виводить на друк суму його цифр.\n",
    "\n",
    "\n",
    "<b>Sample Input </b><br>\n",
    "12345\n",
    "\n",
    "<b>Sample Output</b><br> \n",
    "15\n",
    "\n",
    "\n"
   ]
  },
  {
   "cell_type": "code",
   "execution_count": 5,
   "id": "94d5ad8e",
   "metadata": {},
   "outputs": [
    {
     "name": "stdout",
     "output_type": "stream",
     "text": [
      "Enter your number: 12345\n",
      "15\n"
     ]
    }
   ],
   "source": [
    "def print_digit_sum():\n",
    "    num = input('Enter your number: ')\n",
    "    suma = 0\n",
    "    for i in num:\n",
    "        suma += int(i)\n",
    "    print(suma)\n",
    "\n",
    "print_digit_sum()"
   ]
  },
  {
   "cell_type": "markdown",
   "id": "970e185e",
   "metadata": {},
   "source": [
    "<b><div style=\"text-align: center;font-size: 24px;\">Конвертер кілометрів</div></b><br>\n",
    "\n",
    "Напишіть функцію convert_to_miles(km), яка приймає як аргумент відстань у кілометрах та повертає відстань у милях. Формула для перетворення: милі = кілометри * 0.6214.\n",
    "\n",
    "\n",
    "<b>Sample Input </b><br>\n",
    "print(convert_to_miles(1))  \n",
    "print(convert_to_miles(5))  \n",
    "print(convert_to_miles(10))  \n",
    "\n",
    "<b>Sample Output</b><br> \n",
    "0.6214  \n",
    "3.107  \n",
    "6.214  \n",
    "\n",
    "\n"
   ]
  },
  {
   "cell_type": "code",
   "execution_count": 10,
   "id": "c3104e7e",
   "metadata": {},
   "outputs": [
    {
     "name": "stdout",
     "output_type": "stream",
     "text": [
      "Enter the length of track in km: 10\n",
      "6.214\n"
     ]
    }
   ],
   "source": [
    "def convert_to_miles(km):\n",
    "    print(round(km * 0.6214,5))\n",
    "\n",
    "a = float(input('Enter the length of track in km: '))\n",
    "convert_to_miles(a)"
   ]
  },
  {
   "cell_type": "markdown",
   "id": "371929b5",
   "metadata": {},
   "source": [
    "<b><div style=\"text-align: center;font-size: 24px;\">Знайти всіх</div></b><br>\n",
    "\n",
    "Нагадаємо, що рядковий метод find('a') повертає місце розташування першого входження символу a у рядку. Проблема полягає в тому, що даний метод не знаходить розташування всіх символів а.\n",
    "\n",
    "Напишіть функцію з ім'ям find_all(target, symbol), яка приймає два аргументи: рядок target і символ symbol і повертає список, що містить усі розташування цього символу в рядку.\n",
    "\n",
    "**Примітка 1.** Якщо вказаний символ не зустрічається в рядку, слід повернути порожній список.\n",
    "\n",
    "\n",
    "<b>Sample Input </b><br>\n",
    "print(find_all('abcdabcaaa', 'a'))  \n",
    "print(find_all('abcadbcaaa', 'e'))  \n",
    "print(find_all('abcadbcaaa', 'd'))  \n",
    "\n",
    "<b>Sample Output</b><br> \n",
    "[0, 4, 7, 8, 9]  \n",
    "[]  \n",
    "[4]  \n",
    "\n",
    "\n"
   ]
  },
  {
   "cell_type": "code",
   "execution_count": 22,
   "id": "34896259",
   "metadata": {},
   "outputs": [
    {
     "name": "stdout",
     "output_type": "stream",
     "text": [
      "Enter your line: abcdabcaaa\n",
      "Enter a symbol to search: e\n",
      "[]\n"
     ]
    }
   ],
   "source": [
    "def find_all(target, symbol):\n",
    "    arr = []\n",
    "    for _ in range (0,len(target)):\n",
    "        if target[_] == symbol:\n",
    "            arr.append(_)\n",
    "    print(arr)\n",
    "    \n",
    "line = input('Enter your line: ')\n",
    "char = input('Enter a symbol to search: ')\n",
    "\n",
    "find_all(line, char)"
   ]
  },
  {
   "cell_type": "markdown",
   "id": "11e189a6",
   "metadata": {},
   "source": [
    "<b><div style=\"text-align: center;font-size: 24px;\">Merge lists 1</div></b><br>\n",
    "\n",
    "Напишіть функцію merge(list1, list2), яка приймає як аргументи два відсортованих за зростанням списку, що складаються з цілих чисел, і об'єднує їх в один відсортований список.\n",
    "\n",
    "**Примітка 1.** Списки list1 та list2 можуть мати різну довжину.\n",
    "\n",
    "**Примітка 2.** Можна використовувати обліковий метод sort(), а можна обійтися і без нього 😎.\n",
    "\n",
    "<b>Sample Input </b><br>\n",
    "print(merge([1, 2, 3], [5, 6, 7, 8]))  \n",
    "print(merge([1, 7, 10, 16], [5, 6, 13, 20]))  \n",
    "\n",
    "<b>Sample Output</b><br> \n",
    "[1, 2, 3, 5, 6, 7, 8]  \n",
    "[1, 5, 6, 7, 10, 13, 16, 20]  \n",
    "\n",
    "\n",
    "\n"
   ]
  },
  {
   "cell_type": "code",
   "execution_count": 4,
   "id": "6949accc",
   "metadata": {},
   "outputs": [
    {
     "name": "stdout",
     "output_type": "stream",
     "text": [
      "Enter first list: 1 7 10 16\n",
      "Enter second list: 5 6 13 20\n",
      "[1, 7, 10, 16]\n",
      "[5, 6, 13, 20]\n",
      "[1, 5, 6, 7, 10, 13, 16, 20]\n"
     ]
    }
   ],
   "source": [
    "def merge(list1, list2):\n",
    "    res = list1 + list2\n",
    "    res.sort()\n",
    "    print(res)\n",
    "    \n",
    "a = [int(i) for i in input('Enter first list: ').split()]\n",
    "b = [int(i) for i in input('Enter second list: ').split()]\n",
    "print(a)\n",
    "print(b)\n",
    "merge(a,b)"
   ]
  },
  {
   "cell_type": "markdown",
   "id": "43eb3cd2",
   "metadata": {},
   "source": [
    "<b><div style=\"text-align: center;font-size: 24px;\">Merge lists 2</div></b><br>\n",
    "\n",
    "На вхід до програми подається число n, а потім n рядків, що містять цілі числа у порядку зростання. З цих рядків формуються списки чисел. Напишіть програму, яка об'єднує вказані списки в один відсортований список за допомогою quick_merge(), а потім виводить його.\n",
    "\n",
    "\n",
    "<b>Sample Input </b><br>\n",
    "3  \n",
    "1 2 3 4  \n",
    "5 6 7  \n",
    "10 11 17  \n",
    "\n",
    "<b>Sample Output</b><br> \n",
    "1 2 3 4 5 6 7 10 11 17\n",
    "\n"
   ]
  },
  {
   "cell_type": "code",
   "execution_count": 6,
   "id": "1c3d9fca",
   "metadata": {},
   "outputs": [
    {
     "name": "stdout",
     "output_type": "stream",
     "text": [
      "Enter the number of rows: 3\n",
      "Enter the sequence: 1 2 3 4\n",
      "Enter the sequence: 5 6 7\n",
      "Enter the sequence: 10 11 17\n",
      "[1, 2, 3, 4, 5, 6, 7, 10, 11, 17]\n"
     ]
    }
   ],
   "source": [
    "def quick_merge():\n",
    "    n = int(input('Enter the number of rows: '))\n",
    "    arr = []\n",
    "    for _ in range(n):\n",
    "        _ = [int(i) for i in input('Enter the sequence: ').split()]\n",
    "        arr += _\n",
    "    arr.sort()\n",
    "    print(arr)\n",
    "    \n",
    "quick_merge()"
   ]
  },
  {
   "cell_type": "markdown",
   "id": "15d0a011",
   "metadata": {},
   "source": [
    "<b><div style=\"text-align: center;font-size: 24px;\">Біноміальний коефіцієнт 🌶️</div></b><br>\n",
    "\n",
    "Напишіть функцію compute_binom(n, k), яка приймає як аргументи два натуральні числа n і k і повертає значення біномного коефіцієнта, рівного <p style=\"font-size: 20px;\">$\\frac{n!}{k!(n-k)!}$</p>\n",
    "\n",
    "\n",
    "**Примітка 1.** Факторіал натурального числа n, називається добуток усіх натуральних чисел від 1 до n, тобто n!=1⋅2⋅3⋅…⋅n\n",
    "\n",
    "**Примітка 2.** Реалізуйте допоміжну функцію factorial(n), яка обчислює факторіал числа, або скористайтеся готовою функцією з модуля math. Зауважте, що функція compute_binom(n, k) повинна повертати ціле число.\n",
    "\n",
    "\n",
    "<b>Sample Input </b><br>\n",
    "10  \n",
    "2  \n",
    "\n",
    "<b>Sample Output</b><br> \n",
    "45\n",
    "\n",
    "\n"
   ]
  },
  {
   "cell_type": "code",
   "execution_count": 8,
   "id": "af2b04eb",
   "metadata": {},
   "outputs": [
    {
     "name": "stdout",
     "output_type": "stream",
     "text": [
      "Enter n: 10\n",
      "Enter k: 2\n",
      "45\n"
     ]
    }
   ],
   "source": [
    "import math as m\n",
    "\n",
    "def compute_binom(n,k):\n",
    "    print(int(m.factorial(n)/(m.factorial(k)*m.factorial(n-k))))\n",
    "\n",
    "a = int(input('Enter n: '))\n",
    "b = int(input('Enter k: '))\n",
    "    \n",
    "compute_binom(a,b)    "
   ]
  },
  {
   "cell_type": "markdown",
   "id": "72efe542",
   "metadata": {},
   "source": [
    "<b><div style=\"text-align: center;font-size: 24px;\">Магічні дати</div></b><br>\n",
    "\n",
    "Магічна дата – це дата, коли день, помножений на місяць, дорівнює числу, утвореному останніми двома цифрами року.\n",
    "\n",
    "Напишіть функцію is_magic(date), яка приймає як аргумент рядкове подання коректної дати і повертає значення True, якщо дата є магічною і False - інакше.\n",
    "\n",
    "\n",
    "<b>Sample Input </b><br>\n",
    "print(is_magic('10.06.1960'))  \n",
    "print(is_magic('11.06.1960'))  \n",
    "\n",
    "<b>Sample Output</b><br> \n",
    "True  \n",
    "False  \n",
    "\n",
    "\n",
    "\n"
   ]
  },
  {
   "cell_type": "code",
   "execution_count": 10,
   "id": "d4d7b78a",
   "metadata": {},
   "outputs": [
    {
     "name": "stdout",
     "output_type": "stream",
     "text": [
      "Enter your date: 15.08.2002\n",
      "False\n"
     ]
    }
   ],
   "source": [
    "def is_magic(date):\n",
    "    date = date.split('.')\n",
    "    if int(date[0]) * int(date[1]) == int(date[2])%100:\n",
    "        return True\n",
    "    else:\n",
    "        return False\n",
    "    \n",
    "data = input('Enter your date: ')\n",
    "print(is_magic(data))        "
   ]
  },
  {
   "cell_type": "markdown",
   "id": "6ddce292",
   "metadata": {},
   "source": [
    "<b><div style=\"text-align: center;font-size: 24px;\">Панграми</div></b><br>\n",
    "\n",
    "Панграма – це фраза, що містить у собі літери алфавіту. Зазвичай, панграми використовують для презентації шрифтів, щоб можна було в одній фразі розглянути всі гліфи.\n",
    "\n",
    "Напишіть функцію, is_pangram(text) яка приймає як аргумент рядок тексту англійською мовою і повертає значення True якщо текст є панграмою і False в іншому випадку.\n",
    "\n",
    "**Примітка 1.** Гарантується, що введений рядок містить лише літери англійського алфавіту та пробіли.\n",
    "\n",
    "<b>Sample Input </b><br>\n",
    "print(is_pangram('Jackdaws love my big sphinx of quartz'))  \n",
    "print(is_pangram('The jay pig fox zebra and my wolves quack'))  \n",
    "print(is_pangram('Hello world'))  \n",
    "\n",
    "<b>Sample Output</b><br> \n",
    "True  \n",
    "True  \n",
    "False  \n",
    "\n",
    "\n"
   ]
  },
  {
   "cell_type": "code",
   "execution_count": 13,
   "id": "d5d2fddf",
   "metadata": {},
   "outputs": [
    {
     "name": "stdout",
     "output_type": "stream",
     "text": [
      "Enter your sentence: hello world\n",
      "False\n"
     ]
    }
   ],
   "source": [
    "def is_pangram(text):\n",
    "    letters = ['a', 'b', 'c', 'd', 'e', 'f', 'g', 'h', 'i', 'j', 'k',\n",
    "              'l', 'm', 'n', 'o', 'p', 'q', 'r', 's', 't', 'u', 'v', 'w', 'x', 'y', 'z']\n",
    "    text = text.replace(' ', '').lower()\n",
    "    for i in letters:\n",
    "        if i in text:\n",
    "            return True\n",
    "        else:\n",
    "            return False\n",
    "\n",
    "line = input('Enter your sentence: ')\n",
    "print(is_pangram(line))"
   ]
  }
 ],
 "metadata": {
  "kernelspec": {
   "display_name": "Python 3 (ipykernel)",
   "language": "python",
   "name": "python3"
  },
  "language_info": {
   "codemirror_mode": {
    "name": "ipython",
    "version": 3
   },
   "file_extension": ".py",
   "mimetype": "text/x-python",
   "name": "python",
   "nbconvert_exporter": "python",
   "pygments_lexer": "ipython3",
   "version": "3.8.12"
  }
 },
 "nbformat": 4,
 "nbformat_minor": 5
}
