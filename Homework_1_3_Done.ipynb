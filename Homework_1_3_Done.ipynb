{
 "cells": [
  {
   "cell_type": "markdown",
   "id": "c6cfd882",
   "metadata": {
    "id": "c6cfd882"
   },
   "source": [
    "<h2 align='center'>Домашнє завдання №3</h2>"
   ]
  },
  {
   "cell_type": "markdown",
   "id": "69ec42e8",
   "metadata": {
    "id": "69ec42e8"
   },
   "source": [
    "### Завдання 1"
   ]
  },
  {
   "cell_type": "markdown",
   "id": "46a4c390",
   "metadata": {
    "id": "46a4c390"
   },
   "source": [
    "Відьмаку заплатіть карбованою монетою\n",
    "Всім відомо, що відьмак здатний здолати будь-яких потвор, проте його послуги обійдуться недешево, до того ж відьмак не приймає купюри, він приймає лише карбовані монети. У світі відьмака існують монети з номіналами 1,5,10,25.\n",
    "\n",
    "Напишіть програму, яка визначає яку мінімальну кількість карбованих монет потрібно заплатити відьмаку.\n",
    "\n",
    "<b>Формат вхідних даних</b>  \n",
    "На вхід до програми подається одне натуральне число, ціна за послугу відьмака.\n",
    "\n",
    "<b>Формат вихідних даних</b>  \n",
    "Програма має вивести мінімально можливу кількість карбованих монет для оплати.\n",
    "\n",
    "\n",
    "<b>Sample Input 1:</b> 49  \n",
    "<b>Sample Output 1:</b> 7  \n",
    "\n",
    "\n",
    "<b>Sample Input 2:</b> 1  \n",
    "<b>Sample Output 2:</b> 1   \n",
    "\n",
    "\n",
    "<b>Sample Input 3:</b>   5  \n",
    "<b>Sample Output 3:</b>   1    "
   ]
  },
  {
   "cell_type": "code",
   "execution_count": 6,
   "id": "5b46e0c0",
   "metadata": {
    "id": "5b46e0c0"
   },
   "outputs": [
    {
     "name": "stdout",
     "output_type": "stream",
     "text": [
      "Ціна за послугу відьмака: 49\n",
      "7\n"
     ]
    }
   ],
   "source": [
    "income = int(input(\"Ціна за послугу відьмака: \"))\n",
    "\n",
    "c = 0\n",
    "\n",
    "while(income >= 25):\n",
    "    c+=1\n",
    "    income -=25\n",
    "while(income >= 10):\n",
    "    c+=1\n",
    "    income -=10\n",
    "while(income >= 5):\n",
    "    c+=1\n",
    "    income -=5\n",
    "while(income >= 1):\n",
    "    c+=1\n",
    "    income -=1\n",
    "\n",
    "print(c)"
   ]
  },
  {
   "cell_type": "markdown",
   "id": "50702131",
   "metadata": {
    "id": "50702131"
   },
   "source": [
    "### Завдання 2"
   ]
  },
  {
   "cell_type": "markdown",
   "id": "2fe5999b",
   "metadata": {
    "id": "2fe5999b"
   },
   "source": [
    "##### Зірковий трикутник  \n",
    "На вхід програмі подається натуральне числоn(n≥2) – катет прямокутного рівнобедреного трикутника.\n",
    "\n",
    "Напишіть програму, яка виводить зірковий трикутник відповідно до прикладу.\n",
    "\n",
    "<b>Формат вхідних даних</b>  \n",
    "На вхід до програми подається одне натуральне число n(n≥2).\n",
    "\n",
    "<b>Формат вихідних даних</b>  \n",
    "Програма має вивести трикутник відповідно до умови завдання."
   ]
  },
  {
   "cell_type": "markdown",
   "id": "41a0fcb3",
   "metadata": {
    "id": "41a0fcb3"
   },
   "source": [
    "<b>Sample Input 1:</b>  \n",
    "11\n",
    "  \n",
    "<b>Sample Output 1:</b>  \n",
    "![image.png](attachment:image.png)"
   ]
  },
  {
   "cell_type": "markdown",
   "id": "cd55ae17",
   "metadata": {},
   "source": [
    "В мене не відображається картинка, тому керуюсь завданням з одніє з додаткових домашок і думаю, якщо \"зірковий\" то виводиться зірочками)"
   ]
  },
  {
   "cell_type": "code",
   "execution_count": 27,
   "id": "7471f52a",
   "metadata": {
    "id": "7471f52a"
   },
   "outputs": [
    {
     "name": "stdout",
     "output_type": "stream",
     "text": [
      "Enter a side: 4\n",
      "\n",
      "*\n",
      "**\n",
      "***\n",
      "****\n"
     ]
    }
   ],
   "source": [
    "a = int(input(\"Enter a side: \"))\n",
    "\n",
    "for i in range (0,a+1,1):\n",
    "    print(\"*\" * i)"
   ]
  },
  {
   "cell_type": "code",
   "execution_count": 30,
   "id": "f3d51d94",
   "metadata": {},
   "outputs": [
    {
     "name": "stdout",
     "output_type": "stream",
     "text": [
      "Enter a side: 3\n",
      "***\n",
      "**\n",
      "*\n"
     ]
    }
   ],
   "source": [
    "#reversed version\n",
    "\n",
    "a = int(input(\"Enter a side: \"))\n",
    "\n",
    "for i in range (a,0,-1):\n",
    "    print(\"*\" * i)"
   ]
  },
  {
   "cell_type": "markdown",
   "id": "2f641da4",
   "metadata": {
    "id": "2f641da4"
   },
   "source": [
    "### Завдання 3"
   ]
  },
  {
   "cell_type": "markdown",
   "id": "8ac3bdfa",
   "metadata": {
    "id": "8ac3bdfa"
   },
   "source": [
    "##### Скільки раз?  \n",
    "На вхід до програми подається один рядок. Напишіть програму, яка визначає скільки разів у рядку зустрічаються символи + та *.\n",
    "\n",
    "<b>Формат вхідних даних</b>  \n",
    "На вхід до програми подається один рядок.\n",
    "\n",
    "<b>Формат вихідних даних</b>  \n",
    "Програма повинна вивести скільки разів зустрічаються символи + та * у рядку."
   ]
  },
  {
   "cell_type": "markdown",
   "id": "6ecd0f83",
   "metadata": {
    "id": "6ecd0f83"
   },
   "source": [
    "<b>Sample Input:</b>  \n",
    "bcd+a++++**31415\n",
    "\n",
    "<b>Sample Output:</b>  \n",
    "Символ + зустрічається 5 разів  \n",
    "Символ * зустрічається 2 рази  "
   ]
  },
  {
   "cell_type": "code",
   "execution_count": 7,
   "id": "0956eb29",
   "metadata": {
    "id": "0956eb29"
   },
   "outputs": [
    {
     "name": "stdout",
     "output_type": "stream",
     "text": [
      "Enter your line: bcd+a++++**31415\n",
      "Символ + зустрічається  5 разів\n",
      "Символ + зустрічається  2 разів\n"
     ]
    }
   ],
   "source": [
    "line = input('Enter your line: ')\n",
    "\n",
    "a = line.count('+')\n",
    "b = line.count('*')\n",
    "\n",
    "print('Символ + зустрічається ', a, 'разів')\n",
    "print('Символ + зустрічається ', b, 'разів')"
   ]
  },
  {
   "cell_type": "markdown",
   "id": "97f6b23f",
   "metadata": {
    "id": "97f6b23f"
   },
   "source": [
    "### Завдання 4"
   ]
  },
  {
   "cell_type": "markdown",
   "id": "62141bf4",
   "metadata": {
    "id": "62141bf4"
   },
   "source": [
    "##### Паліндром\n",
    "На вхід до програми подається одне слово, записане в нижньому регістрі. Напишіть програму, яка визначає, чи є вона паліндромом.\n",
    "\n",
    "<b>Формат вхідних даних</b>\n",
    "На вхід до програми подається одне слово в нижньому регістрі.\n",
    "\n",
    "<b>Формат вихідних даних</b>\n",
    "Програма повинна вивести \"YES\", якщо слово є паліндромом і \"NO\" в іншому випадку.\n",
    "\n",
    "Примітка. Паліндром читається однаково в обох напрямках, наприклад, слово «потоп».  \n",
    "\n",
    "\n",
    "<b>Sample Input 1:</b>  \n",
    "потоп\n",
    "    \n",
    "<b>Sample Output 1:</b>  \n",
    "YES\n",
    "    \n",
    "<b>Sample Input 2:</b>  \n",
    "анекдот\n",
    "    \n",
    "<b>Sample Output 2:</b>  \n",
    "NO"
   ]
  },
  {
   "cell_type": "code",
   "execution_count": 12,
   "id": "8acbf223",
   "metadata": {
    "id": "8acbf223"
   },
   "outputs": [
    {
     "name": "stdout",
     "output_type": "stream",
     "text": [
      "Enter your word: анекдот\n",
      "NO\n"
     ]
    }
   ],
   "source": [
    "word = input('Enter your word: ')\n",
    "\n",
    "if (word == word[::-1]):\n",
    "    print('YES')\n",
    "else:\n",
    "    print('NO')"
   ]
  },
  {
   "cell_type": "markdown",
   "id": "e38d27ef",
   "metadata": {
    "id": "e38d27ef"
   },
   "source": [
    "### Завдання 5"
   ]
  },
  {
   "cell_type": "markdown",
   "id": "004e59cf",
   "metadata": {
    "id": "004e59cf"
   },
   "source": [
    "##### Список кубів\n",
    "На вхід програмі подається натуральне числоn, а потім n цілих чисел. Напишіть програму, яка створює із зазначених чисел список їх кубів.\n",
    "\n",
    "<b>Формат вхідних даних</b>\n",
    "На вхід до програми подаються натуральне число n, а потім n цілих чисел, кожне на окремому рядку.\n",
    "\n",
    "<b>Формат вихідних даних</b>\n",
    "Програма має вивести список, що складається із кубів зазначених чисел."
   ]
  },
  {
   "cell_type": "markdown",
   "id": "79c4a807",
   "metadata": {
    "id": "79c4a807"
   },
   "source": [
    "<b>Sample Input 1:</b>  \n",
    "5  <br>\n",
    "1     <br>\n",
    "2    <br>\n",
    "3     <br>\n",
    "4    <br>\n",
    "5    <br>\n",
    "\n",
    "<b>Sample Output 1:</b>  \n",
    "[1, 8, 27, 64, 125]\n",
    "\n",
    "<b>Sample Input 2:</b>  \n",
    "2   <br>\n",
    "-5   <br>\n",
    "-2   <br>\n",
    "\n",
    "<b>Sample Output 2:</b>  \n",
    "[-125, -8]\n",
    "\n",
    "<b>Sample Input 3:</b>  \n",
    "1   <br>\n",
    "100   <br>\n",
    "\n",
    "<b>Sample Output 3:</b>  \n",
    "[1000000]"
   ]
  },
  {
   "cell_type": "code",
   "execution_count": 14,
   "id": "3a43243a",
   "metadata": {
    "id": "3a43243a"
   },
   "outputs": [
    {
     "name": "stdout",
     "output_type": "stream",
     "text": [
      "Enter the number of numbers: 5\n",
      "Enter your number: -1\n",
      "Enter your number: 3\n",
      "Enter your number: -5\n",
      "Enter your number: 2\n",
      "Enter your number: 3\n",
      "[-1, 27, -125, 8, 27]\n"
     ]
    }
   ],
   "source": [
    "n = int(input('Enter the number of numbers: '))\n",
    "res =[]\n",
    "for i in range (n):\n",
    "    i = int(input('Enter your number: '))\n",
    "    i = i**3\n",
    "    res.append(i)\n",
    "print(res)"
   ]
  },
  {
   "cell_type": "markdown",
   "id": "4bd7d6d7",
   "metadata": {
    "id": "4bd7d6d7"
   },
   "source": [
    "### Завдання 6"
   ]
  },
  {
   "cell_type": "markdown",
   "id": "ede7fe8c",
   "metadata": {
    "id": "ede7fe8c"
   },
   "source": [
    "Напишіть функцію print_fio(name, surname, patronymic), яка приймає три параметри:\n",
    "\n",
    "name – ім'я людини;\n",
    "surname – прізвище людини;\n",
    "patronymic - по-батькові людини;\n",
    "а потім виводить на друк ПІБ людини.\n",
    "\n",
    "Примітка. Передбачте той факт, що всі три літери у ПІБ повинні мати верхній регістр.\n",
    "\n",
    "\n",
    "<b>Sample Input 1:</b>  \n",
    "Олександр  \n",
    "Пушкін  \n",
    "Сергійович  \n",
    "\n",
    "<b>Sample Output 1:</b>  \n",
    "ПАС  \n",
    "\n",
    "<b>Sample Input 2:</b>  \n",
    "тимур  \n",
    "Гуєв  \n",
    "ахсарбекович  \n",
    "\n",
    "<b>Sample Output 2:</b>  \n",
    "ГТА"
   ]
  },
  {
   "cell_type": "markdown",
   "id": "f8a279d5",
   "metadata": {
    "id": "f8a279d5"
   },
   "source": [
    "##### Підказка\n",
    "\n",
    "Щоб піднести першу букву слова треба використати .title()   \n",
    "'alex'.title() -> 'Alex'   <br>\n",
    "\n",
    "Щоб піднести всі букви слова треба використати .upper()  \n",
    "'alex'.upper() -> 'ALEX'  "
   ]
  },
  {
   "cell_type": "code",
   "execution_count": 20,
   "id": "0f325fe4",
   "metadata": {
    "id": "0f325fe4"
   },
   "outputs": [
    {
     "name": "stdout",
     "output_type": "stream",
     "text": [
      "Enter your name: петренко\n",
      "Enter your surname: Володимир\n",
      "Enter your patronymic: олексійович\n",
      "В П О\n"
     ]
    }
   ],
   "source": [
    "def print_fio(name, surname, patronymic):\n",
    "    name = name.title()\n",
    "    surname = surname.title()\n",
    "    patronymic = patronymic.title()\n",
    "    print(surname[0],name[0],patronymic[0])\n",
    "    \n",
    "a = input('Enter your name: ')\n",
    "b = input('Enter your surname: ')\n",
    "c = input('Enter your patronymic: ')\n",
    "print_fio(a,b,c)"
   ]
  }
 ],
 "metadata": {
  "colab": {
   "provenance": []
  },
  "kernelspec": {
   "display_name": "Python 3 (ipykernel)",
   "language": "python",
   "name": "python3"
  },
  "language_info": {
   "codemirror_mode": {
    "name": "ipython",
    "version": 3
   },
   "file_extension": ".py",
   "mimetype": "text/x-python",
   "name": "python",
   "nbconvert_exporter": "python",
   "pygments_lexer": "ipython3",
   "version": "3.8.12"
  }
 },
 "nbformat": 4,
 "nbformat_minor": 5
}
