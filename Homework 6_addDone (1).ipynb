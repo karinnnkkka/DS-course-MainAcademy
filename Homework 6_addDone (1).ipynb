{
 "cells": [
  {
   "cell_type": "markdown",
   "id": "a7329d76",
   "metadata": {},
   "source": [
    "<b><div style=\"text-align: center;font-size: 24px;\">Список чисел</div></b><br>\n",
    "\n",
    "На вхід до програми подається одне число n. Напишіть програму, яка відображає список [1, 2, 3, ..., n].\n",
    "\n",
    "\n",
    "<b>Sample Input </b><br>\n",
    "10\n",
    "\n",
    "<b>Sample Output</b><br> \n",
    "[1, 2, 3, 4, 5, 6, 7, 8, 9, 10]"
   ]
  },
  {
   "cell_type": "code",
   "execution_count": 4,
   "id": "e356ae31",
   "metadata": {},
   "outputs": [
    {
     "name": "stdout",
     "output_type": "stream",
     "text": [
      "Enter the number of numbers: 10\n",
      "1 2 3 4 5 6 7 8 9 10 "
     ]
    }
   ],
   "source": [
    "n = int(input('Enter the number of numbers: '))\n",
    "\n",
    "for i in range (1,n+1):\n",
    "    print(i, end =' ')"
   ]
  },
  {
   "cell_type": "markdown",
   "id": "da8baa25",
   "metadata": {},
   "source": [
    "<b><div style=\"text-align: center;font-size: 24px;\">Список букв</div></b><br>\n",
    "\n",
    "На вхід до програми подається одне число n. Напишіть програму, яка виводить список, що складається з n букв англійського алфавіту ['a', 'b', 'c', ...] у нижньому регістрі.\n",
    "\n",
    "\n",
    "<b>Sample Input </b><br>\n",
    "5\n",
    "\n",
    "<b>Sample Output</b><br> \n",
    "['a', 'b', 'c', 'd', 'e']\n",
    "\n",
    "\n"
   ]
  },
  {
   "cell_type": "code",
   "execution_count": 6,
   "id": "e2461dbb",
   "metadata": {},
   "outputs": [
    {
     "name": "stdout",
     "output_type": "stream",
     "text": [
      "Enter the number of letters: 5\n"
     ]
    },
    {
     "data": {
      "text/plain": [
       "['a', 'b', 'c', 'd', 'e']"
      ]
     },
     "execution_count": 6,
     "metadata": {},
     "output_type": "execute_result"
    }
   ],
   "source": [
    "text = ['a', 'b', 'c', 'd', 'e', 'f', 'g', 'h', 'i', 'j', 'k', 'l', 'm', 'n', 'o', 'p', 'q', 'r', 's', 't', 'u', 'v', 'w', 'x', 'y', 'z']\n",
    "\n",
    "n = int(input('Enter the number of letters: '))\n",
    "text[:n]"
   ]
  },
  {
   "cell_type": "markdown",
   "id": "9c7b3472",
   "metadata": {},
   "source": [
    "<b><div style=\"text-align: center;font-size: 24px;\">Все відразу 1 🌶️</div></b><br>\n",
    "\n",
    "Доповніть наведений код, щоб він:\n",
    "\n",
    "- Вивів довжину списку;\n",
    "- Вивів останній елемент списку;\n",
    "- Вивів список у зворотному порядку (згадуємо зрізи);\n",
    "- Вивив YES якщо список містить числа 5 і 17, і NO інакше;\n",
    "- Вивів список з віддаленим першим та останнім елементами.\n",
    "\n",
    "**Примітка.** Кожен висновок здійснювати з нового рядка."
   ]
  },
  {
   "cell_type": "code",
   "execution_count": 8,
   "id": "cb73d9d0",
   "metadata": {},
   "outputs": [
    {
     "name": "stdout",
     "output_type": "stream",
     "text": [
      "Довжина списку:  50\n",
      "\n",
      "Останній елемент:  5\n",
      "\n",
      "Зворотній порядок:  [5, 7, 6, 16, 14, 2, 1, 15, 1, 9, 14, 10, 2, 1, 12, 6, 5, 14, 12, 2, 8, 14, 6, 0, 0, 12, 10, 10, 11, 1, 5, 8, 10, 10, 16, 8, 0, 1, 16, 4, 5, 12, 16, 11, 4, 10, 14, 3, 6, 2]\n",
      "\n",
      "NO\n",
      "\n",
      "Список без першого та останнього елементів:  [6, 3, 14, 10, 4, 11, 16, 12, 5, 4, 16, 1, 0, 8, 16, 10, 10, 8, 5, 1, 11, 10, 10, 12, 0, 0, 6, 14, 8, 2, 12, 14, 5, 6, 12, 1, 2, 10, 14, 9, 1, 15, 1, 2, 14, 16, 6, 7]\n",
      "\n",
      "Список з віддаленими елементами: 2   [6, 3, 14, 10, 4, 11, 16, 12, 5, 4, 16, 1, 0, 8, 16, 10, 10, 8, 5, 1, 11, 10, 10, 12, 0, 0, 6, 14, 8, 2, 12, 14, 5, 6, 12, 1, 2, 10, 14, 9, 1, 15, 1, 2, 14, 16, 6, 7]   5\n"
     ]
    }
   ],
   "source": [
    "numbers = [2, 6, 3, 14, 10, 4, 11, 16, 12, 5, 4, 16, 1, 0, 8, 16, 10, \n",
    "           10, 8, 5, 1, 11, 10, 10, 12, 0, 0, 6, 14, 8, 2, 12, 14, 5, \n",
    "           6, 12, 1, 2, 10, 14, 9, 1, 15, 1, 2, 14, 16, 6, 7, 5]\n",
    "\n",
    "print('Довжина списку: ', len(numbers))\n",
    "print('\\nОстанній елемент: ', numbers[-1])\n",
    "print('\\nЗворотній порядок: ', numbers[::-1])\n",
    "\n",
    "counter = 0\n",
    "\n",
    "for _ in numbers:\n",
    "    if (i == 5) | (i == 17):\n",
    "        counter += 1\n",
    "\n",
    "if counter >= 2:\n",
    "    print('\\nYES')\n",
    "else:\n",
    "    print('\\nNO')\n",
    "    \n",
    "print('\\nСписок без першого та останнього елементів: ', numbers[1:-1])\n",
    "print('\\nСписок з віддаленими елементами:', numbers[0], ' ', numbers[1:-1], ' ', numbers[-1])"
   ]
  },
  {
   "cell_type": "markdown",
   "id": "9c686fb0",
   "metadata": {},
   "source": [
    "<b><div style=\"text-align: center;font-size: 24px;\">Список дільників</div></b><br>\n",
    "\n",
    "На вхід програмі подається натуральне число n. Напишіть програму, яка створює список, що складається з дільників уведеного числа.\n",
    "\n",
    "\n",
    "<b>Sample Input </b><br>\n",
    "36\n",
    "\n",
    "<b>Sample Output</b><br> \n",
    "[1, 2, 3, 4, 6, 9, 12, 18, 36]\n"
   ]
  },
  {
   "cell_type": "code",
   "execution_count": 12,
   "id": "c66a4c2a",
   "metadata": {},
   "outputs": [
    {
     "name": "stdout",
     "output_type": "stream",
     "text": [
      "Enter your number: 36\n"
     ]
    },
    {
     "data": {
      "text/plain": [
       "[1, 2, 3, 4, 6, 9, 12, 18, 36]"
      ]
     },
     "execution_count": 12,
     "metadata": {},
     "output_type": "execute_result"
    }
   ],
   "source": [
    "n = int(input('Enter your number: '))\n",
    "arr = []\n",
    "\n",
    "for i in range (1,n+1):\n",
    "    if (n % i == 0):\n",
    "        arr.append(i)\n",
    "\n",
    "arr"
   ]
  },
  {
   "cell_type": "markdown",
   "id": "a2b66fd0",
   "metadata": {},
   "source": [
    "<b><div style=\"text-align: center;font-size: 24px;\">k-а літера слова 🌶️🌶️</div></b><br>\n",
    "\n",
    "На вхід програмі подається натуральне число n та n рядків, а потім число k. Напишіть програму, яка виводить k-у літеру із введених рядків на одному рядку без пробілів.\n",
    "\n",
    "**Формат вхідних даних**\n",
    "На вхід програмі подається натуральне число n, далі n рядків, кожен на окремому рядку. Наприкінці вводиться натуральне число k – номер літери (нумерація починається з одиниці).\n",
    "\n",
    "**Формат вихідних даних**\n",
    "Програма має вивести текст відповідно до умови завдання.\n",
    "\n",
    "**Примітка.** Якщо деякі рядки надто короткі, і в них немає символу із заданим номером, такі рядки при виведенні потрібно ігнорувати.\n",
    "\n",
    "\n",
    "<b>Sample Input </b><br>\n",
    "5  \n",
    "abcdef  \n",
    "bcdefg  \n",
    "cdefgh  \n",
    "defghi  \n",
    "efghij  \n",
    "2  \n",
    "\n",
    "<b>Sample Output</b><br> \n",
    "bcdef\n",
    "\n",
    "\n",
    "\n"
   ]
  },
  {
   "cell_type": "code",
   "execution_count": 17,
   "id": "52d4aa2d",
   "metadata": {},
   "outputs": [
    {
     "name": "stdout",
     "output_type": "stream",
     "text": [
      "Enter the number of a lines: 5\n",
      "Enter your line: abc\n",
      "Enter your line: bcdefg\n",
      "Enter your line: fnafy\n",
      "Enter your line: likeit\n",
      "Enter your line: puppet\n",
      "Enter the place of a letter: 4\n"
     ]
    },
    {
     "data": {
      "text/plain": [
       "['e', 'f', 'e', 'p']"
      ]
     },
     "execution_count": 17,
     "metadata": {},
     "output_type": "execute_result"
    }
   ],
   "source": [
    "n = int(input('Enter the number of a lines: '))\n",
    "arr = []\n",
    "for i in range(n):\n",
    "    i = input('Enter your line: ')\n",
    "    arr.append(i)\n",
    "k = int(input('Enter the place of a letter: '))\n",
    "\n",
    "out = []\n",
    "\n",
    "for j in arr:\n",
    "    if len(j)>= k:\n",
    "        out.append(j[k-1])\n",
    "out"
   ]
  },
  {
   "cell_type": "markdown",
   "id": "b1ad57e6",
   "metadata": {},
   "source": [
    "<b><div style=\"text-align: center;font-size: 24px;\">Символи всіх рядків</div></b><br>\n",
    "\n",
    "На вхід програмі подається натуральне число n, а потім n рядків. Напишіть програму, яка створює список із символів усіх рядків, а потім виводить його.\n",
    "\n",
    "\n",
    "<b>Sample Input </b><br>\n",
    "3  \n",
    "abc  \n",
    "def  \n",
    "ghi  \n",
    "\n",
    "<b>Sample Output</b><br> \n",
    "['a', 'b', 'c', 'd', 'e', 'f', 'g', 'h', 'i']\n",
    "\n",
    "\n",
    "\n"
   ]
  },
  {
   "cell_type": "code",
   "execution_count": 25,
   "id": "3fccc076",
   "metadata": {},
   "outputs": [
    {
     "name": "stdout",
     "output_type": "stream",
     "text": [
      "Enter a number of rows: 3\n",
      "Enter your row: abc\n",
      "Enter your row: def\n",
      "Enter your row: ghi\n"
     ]
    },
    {
     "data": {
      "text/plain": [
       "['a', 'b', 'c', 'd', 'e', 'f', 'g', 'h', 'i']"
      ]
     },
     "execution_count": 25,
     "metadata": {},
     "output_type": "execute_result"
    }
   ],
   "source": [
    "n = int(input('Enter a number of rows: '))\n",
    "arr =[]\n",
    "for i in range(n):\n",
    "    arr.extend(input('Enter your row: '))\n",
    "arr    "
   ]
  },
  {
   "cell_type": "markdown",
   "id": "3f8a6524",
   "metadata": {},
   "source": [
    "<b><div style=\"text-align: center;font-size: 24px;\">Діаграма</div></b><br>\n",
    "\n",
    "На вхід до програми подається рядок тексту, що містить цілі числа. Напишіть програму, яка за заданими числами будує стовпчасту діаграму.\n",
    "\n",
    "\n",
    "<b>Sample Input </b><br>\n",
    "5 3 7 10 2\n",
    "\n",
    "<b>Sample Output</b><br> \n",
    "+++++  \n",
    "+++    \n",
    "+++++++  \n",
    "++++++++++  \n",
    "++  \n",
    "\n",
    "\n",
    "\n"
   ]
  },
  {
   "cell_type": "code",
   "execution_count": 33,
   "id": "14e49927",
   "metadata": {},
   "outputs": [
    {
     "name": "stdout",
     "output_type": "stream",
     "text": [
      "enter a line of numbers: 5 3 7 1\n",
      "+++++\n",
      "+++\n",
      "+++++++\n",
      "+\n"
     ]
    }
   ],
   "source": [
    "line = input('enter a line of numbers: ').split(' ')\n",
    "for i in line:\n",
    "    print('+' * int(i))"
   ]
  },
  {
   "cell_type": "markdown",
   "id": "5309908a",
   "metadata": {},
   "source": [
    "<b><div style=\"text-align: center;font-size: 24px;\">Кількість пар, що збігаються</div></b><br>\n",
    "\n",
    "На вхід до програми подається рядок тексту, що містить цілі числа. З цього рядка формується перелік чисел. Напишіть програму, яка підраховує, скільки в отриманому списку пар елементів, рівних один одному. Вважається, що будь-які два елементи рівні один одному утворюють одну пару, яку необхідно порахувати.\n",
    "\n",
    "\n",
    "<b>Sample Input </b><br>\n",
    "1 7 5 7 5\n",
    "\n",
    "<b>Sample Output</b><br> \n",
    "2\n",
    "\n",
    "\n",
    "\n"
   ]
  },
  {
   "cell_type": "code",
   "execution_count": 50,
   "id": "8ffab26f",
   "metadata": {},
   "outputs": [
    {
     "name": "stdout",
     "output_type": "stream",
     "text": [
      "Enter a row of numbers: 1 7 5 7 5\n",
      "2\n"
     ]
    }
   ],
   "source": [
    "line = input('Enter a row of numbers: ').split(' ')\n",
    "counter = 0\n",
    "for i in range(len(line)):\n",
    "    for j in range(i+1,len(line)):\n",
    "        if int(line[i]) == int(line[j]):\n",
    "            counter += 1\n",
    "print(counter)"
   ]
  },
  {
   "cell_type": "markdown",
   "id": "265f1d3e",
   "metadata": {},
   "source": [
    "<b><div style=\"text-align: center;font-size: 24px;\">Переставити min та max</div></b><br>\n",
    "\n",
    "На вхід до програми подається рядок тексту, що містить різні натуральні числа. З цього рядка формується перелік чисел. Напишіть програму, яка змінює місцями мінімальний та максимальний елемент цього списку.\n",
    "\n",
    "\n",
    "<b>Sample Input </b><br>\n",
    "3 4 5 2 1\n",
    "\n",
    "<b>Sample Output</b><br> \n",
    "3 4 1 2 5"
   ]
  },
  {
   "cell_type": "code",
   "execution_count": 51,
   "id": "601e4b20",
   "metadata": {},
   "outputs": [
    {
     "name": "stdout",
     "output_type": "stream",
     "text": [
      "Enter the row of numbers: 3 4 5 2 1\n"
     ]
    },
    {
     "data": {
      "text/plain": [
       "[3, 4, 1, 2, 5]"
      ]
     },
     "execution_count": 51,
     "metadata": {},
     "output_type": "execute_result"
    }
   ],
   "source": [
    "line = [int(i) for i in input('Enter the row of numbers: ').split()]\n",
    "maxi = line.index(max(line))\n",
    "mini = line.index(min(line))\n",
    "\n",
    "line[maxi], line[mini] = line[mini], line[maxi]\n",
    "line"
   ]
  },
  {
   "cell_type": "markdown",
   "id": "f3a4431d",
   "metadata": {},
   "source": [
    "<b><div style=\"text-align: center;font-size: 24px;\">Сума чисел</div></b><br>\n",
    "\n",
    "На вхід до програми подається рядок тексту, що містить натуральні числа. Напишіть програму, яка вставляє між кожним числом знак + і обчислює суму отриманих чисел.\n",
    "\n",
    "\n",
    "\n",
    "<b>Sample Input </b><br>\n",
    "2 5 11 33 55\n",
    "\n",
    "<b>Sample Output</b><br> \n",
    "2+5+11+33+55=106\n"
   ]
  },
  {
   "cell_type": "code",
   "execution_count": 64,
   "id": "69b2f307",
   "metadata": {},
   "outputs": [
    {
     "name": "stdout",
     "output_type": "stream",
     "text": [
      "Enter a row of numbers: 2 5 11 33 55\n",
      "2+5+11+33+55 = 106\n"
     ]
    }
   ],
   "source": [
    "line = input('Enter a row of numbers: ').split(' ')\n",
    "\n",
    "suma = 0\n",
    "for i in line:\n",
    "    suma += int(i)\n",
    "    \n",
    "print('+'.join(line), '=', suma)"
   ]
  },
  {
   "cell_type": "markdown",
   "id": "c0a23d84",
   "metadata": {},
   "source": [
    "<b><div style=\"text-align: center;font-size: 24px;\">Валідний номер 🌶️🌶️</div></b><br>\n",
    "\n",
    "На вхід до програми подається рядок тексту. Напишіть програму, яка визначає, чи введений рядок є коректним телефонним номером. Рядок тексту є коректним номером, якщо він має формат:\n",
    "\n",
    "- abc-def-hijk або\n",
    "- 7-abc-def-hijk,\n",
    "\n",
    "де a, b, c, d, e, f, h, i, j, k цифри від 0 до 9.\n",
    "\n",
    "**Формат вхідних даних**\n",
    "На вхід до програми подається рядок тексту.\n",
    "\n",
    "**Формат вихідних даних**\n",
    "Програма повинна вивести YES, якщо рядок є коректним телефонним номером і NO в іншому випадку.\n",
    "\n",
    "**Примітка.** Телефонний номер повинен містити лише цифри та символ -, а кількість цифр у кожній групі має бути правильною.\n",
    "\n",
    "<b>Sample Input 1</b><br>\n",
    "7-301-447-5820\n",
    "\n",
    "<b>Sample Output 1</b><br> \n",
    "YES\n",
    "\n",
    "\n",
    "<br><br>\n",
    "\n",
    "<b>Sample Input 2</b><br>\n",
    "3X1-447-5820\n",
    "\n",
    "<b>Sample Output 2</b><br> \n",
    "NO\n"
   ]
  },
  {
   "cell_type": "code",
   "execution_count": 74,
   "id": "e0daa3b8",
   "metadata": {},
   "outputs": [
    {
     "name": "stdout",
     "output_type": "stream",
     "text": [
      "enter your phone number: 7-13243-343-4444\n",
      "NO\n"
     ]
    }
   ],
   "source": [
    "phone = input('enter your phone number: ').split('-')\n",
    "form = [len(i) for i in phone]\n",
    "\n",
    "count = 1\n",
    "for _ in phone:\n",
    "    if _.isdigit() == 0:\n",
    "        print('NO')\n",
    "        count = 0\n",
    "if count == 1:\n",
    "    if (form == [3, 3, 4]):\n",
    "        print('YES')\n",
    "    elif (form == [1, 3, 3, 4]) & (phone[0] == '7'):\n",
    "        print('YES')\n",
    "    else:\n",
    "        print('NO')"
   ]
  },
  {
   "cell_type": "markdown",
   "id": "b2902a3b",
   "metadata": {},
   "source": [
    "<b><div style=\"text-align: center;font-size: 24px;\">Найдовший</div></b><br>\n",
    "\n",
    "На вхід до програми подається рядок тексту. Напишіть програму, яка використовує обліковий вираз, яка знаходить довжину найдовшого слова.\n",
    "\n",
    "\n",
    "<b>Sample Input </b><br>\n",
    "проспал почти всю ночь\n",
    "\n",
    "<b>Sample Output</b><br> \n",
    "7"
   ]
  },
  {
   "cell_type": "code",
   "execution_count": 76,
   "id": "065ecc33",
   "metadata": {},
   "outputs": [
    {
     "name": "stdout",
     "output_type": "stream",
     "text": [
      "Enter your line: I like dancing every day\n"
     ]
    },
    {
     "data": {
      "text/plain": [
       "7"
      ]
     },
     "execution_count": 76,
     "metadata": {},
     "output_type": "execute_result"
    }
   ],
   "source": [
    "line = input('Enter your line: ').split(' ')\n",
    "num =[]\n",
    "\n",
    "for i in line:\n",
    "    num.append(len(i))\n",
    "max(num)"
   ]
  },
  {
   "cell_type": "markdown",
   "id": "ea8d5aa1",
   "metadata": {},
   "source": [
    "<b><div style=\"text-align: center;font-size: 24px;\">Молодіжний жаргон</div></b><br>\n",
    "\n",
    "На вхід до програми подається рядок тексту. Напишіть програму, яка використовує списковий вираз, яка перетворює кожне слово введеного тексту на \"молодіжний жаргон\" за таким правилом:\n",
    "\n",
    "перша літера кожного слова видаляється і ставиться до кінця слова;\n",
    "потім до кінця слова додається склад \"ки\".\n",
    "\n",
    "<b>Sample Input </b><br>\n",
    "проспал почти всю ночь\n",
    "\n",
    "<b>Sample Output</b><br> \n",
    "роспалпки очтипки сювки очьнки\n",
    "\n",
    "\n",
    "\n"
   ]
  },
  {
   "cell_type": "code",
   "execution_count": 81,
   "id": "5de46a44",
   "metadata": {},
   "outputs": [
    {
     "name": "stdout",
     "output_type": "stream",
     "text": [
      "Enter your sentence: maybe I shoul sleep\n",
      "['aybemки', 'Iки', 'houlsки', 'leepsки']\n"
     ]
    }
   ],
   "source": [
    "line = input('Enter your sentence: ').split()\n",
    "\n",
    "print([i[1:] + i[0] + \"ки\" for i in line]) "
   ]
  }
 ],
 "metadata": {
  "kernelspec": {
   "display_name": "Python 3 (ipykernel)",
   "language": "python",
   "name": "python3"
  },
  "language_info": {
   "codemirror_mode": {
    "name": "ipython",
    "version": 3
   },
   "file_extension": ".py",
   "mimetype": "text/x-python",
   "name": "python",
   "nbconvert_exporter": "python",
   "pygments_lexer": "ipython3",
   "version": "3.8.12"
  }
 },
 "nbformat": 4,
 "nbformat_minor": 5
}
