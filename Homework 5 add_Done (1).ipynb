{
 "cells": [
  {
   "cell_type": "markdown",
   "id": "0596b13b",
   "metadata": {},
   "source": [
    "<b><div style=\"text-align: center;font-size: 24px;\">Заголовні букви</div></b><br>\n",
    "\n",
    "На вхід програмі подається рядок, що складається з імені та прізвища людини, розділених одним пропуском. Напишіть програму, яка перевіряє, що ім'я та прізвище починаються з великої літери.\n",
    "\n",
    "\n",
    "<b>Sample Input 1</b><br>\n",
    "chris alan\n",
    "\n",
    "<b>Sample Output 1</b><br> \n",
    "NO\n",
    "\n",
    "<br><br>\n",
    "<b>Sample Input 2</b><br>\n",
    "Chris Alan\n",
    "\n",
    "<b>Sample Output 2</b><br> \n",
    "YES"
   ]
  },
  {
   "cell_type": "code",
   "execution_count": 3,
   "id": "001bf29b",
   "metadata": {},
   "outputs": [
    {
     "name": "stdout",
     "output_type": "stream",
     "text": [
      "Enter name and surname: Alan Rickman\n",
      "\n",
      "YES\n"
     ]
    }
   ],
   "source": [
    "name = input(\"Enter name and surname: \")\n",
    "name = name.split()\n",
    "\n",
    "if ((name[0] == name[0].capitalize()) &(name[1] == name[1].capitalize())):\n",
    "    print(\"\\nYES\")\n",
    "else:\n",
    "    print(\"\\nNO\")"
   ]
  },
  {
   "cell_type": "markdown",
   "id": "b861d5ab",
   "metadata": {},
   "source": [
    "<b><div style=\"text-align: center;font-size: 24px;\">sWAP cASE</div></b><br>\n",
    "\n",
    "На вхід до програми подається рядок. Напишіть програму, яка змінює регістр символів, тобто замініть всі малі символи великими і навпаки.\n",
    "\n",
    "\n",
    "<b>Sample Input </b><br>\n",
    "Swap Case\n",
    "\n",
    "<b>Sample Output</b><br> \n",
    "sWAP cASE"
   ]
  },
  {
   "cell_type": "code",
   "execution_count": 4,
   "id": "98399625",
   "metadata": {},
   "outputs": [
    {
     "name": "stdout",
     "output_type": "stream",
     "text": [
      "Enter your sentence: I dOn't knOW\n",
      "\n",
      " i DoN'T KNow\n"
     ]
    }
   ],
   "source": [
    "sent = input(\"Enter your sentence: \")\n",
    "\n",
    "sent = sent.swapcase()\n",
    "print(\"\\n\",sent)"
   ]
  },
  {
   "cell_type": "markdown",
   "id": "dec7f149",
   "metadata": {},
   "source": [
    "<b><div style=\"text-align: center;font-size: 24px;\">нижній регістр</div></b><br>\n",
    "\n",
    "На вхід до програми подається рядок. Напишіть програму, яка підраховує кількість літерних символів у нижньому регістрі.\n",
    "\n",
    "\n",
    "<b>Sample Input</b><br>\n",
    "2376423745dhdhdPPPP\n",
    "\n",
    "<b>Sample Output</b><br> \n",
    "5\n",
    "\n",
    "\n"
   ]
  },
  {
   "cell_type": "code",
   "execution_count": 5,
   "id": "97efcba9",
   "metadata": {},
   "outputs": [
    {
     "name": "stdout",
     "output_type": "stream",
     "text": [
      "Enter the line: 2376423745dhdhdPPPP\n",
      "5\n"
     ]
    }
   ],
   "source": [
    "sent = input(\"Enter the line: \")\n",
    "count = 0\n",
    "for i in sent:\n",
    "    if( i.islower() == 1):\n",
    "        count +=1\n",
    "    else:\n",
    "        continue\n",
    "print(count)"
   ]
  },
  {
   "cell_type": "markdown",
   "id": "6c414595",
   "metadata": {},
   "source": [
    "<b><div style=\"text-align: center;font-size: 24px;\">Кількість слів</div></b><br>\n",
    "\n",
    "На вхід програмі подається рядок тексту, що складається зі слів, розділених рівно одним пропуском. Напишіть програму, яка підраховує кількість слів у ній.\n",
    "\n",
    "\n",
    "<b>Sample Input</b><br>\n",
    "Hello world\n",
    "\n",
    "<b>Sample Output</b><br> \n",
    "2\n",
    "\n",
    "\n"
   ]
  },
  {
   "cell_type": "code",
   "execution_count": 7,
   "id": "7d078858",
   "metadata": {},
   "outputs": [
    {
     "name": "stdout",
     "output_type": "stream",
     "text": [
      "Enter your sentence: Orange juice\n"
     ]
    },
    {
     "data": {
      "text/plain": [
       "2"
      ]
     },
     "execution_count": 7,
     "metadata": {},
     "output_type": "execute_result"
    }
   ],
   "source": [
    "sent = input(\"Enter your sentence: \")\n",
    "sent = sent.split()\n",
    "len(sent)"
   ]
  },
  {
   "cell_type": "markdown",
   "id": "fdbb9fe4",
   "metadata": {},
   "source": [
    "<b><div style=\"text-align: center;font-size: 24px;\">Хвилинка генетики</div></b><br>\n",
    "\n",
    "На вхід до програми подається рядок генетичного коду, що складається з літер А (аденін), Г (гуанін), Ц (цитозин), Т (тимін). Напишіть програму, яка підраховує скільки аденіну, гуаніну, цитозину і тиміну входить у цей рядок генетичного коду.\n",
    "\n",
    "\n",
    "<b>Sample Input</b><br>\n",
    "АааГГЦЦцТТттт\n",
    "\n",
    "<b>Sample Output</b><br> \n",
    "Аденін: 3  \n",
    "Гуанін: 2  \n",
    "Цитозин: 3  \n",
    "Тімін: 5\n",
    "\n",
    "\n",
    "\n",
    "\n"
   ]
  },
  {
   "cell_type": "code",
   "execution_count": 9,
   "id": "7676372e",
   "metadata": {},
   "outputs": [
    {
     "name": "stdout",
     "output_type": "stream",
     "text": [
      "Enter your genes: АааГГЦЦцТТттт\n",
      "\n",
      "Аденін:  3\n",
      "\n",
      "Гуанін:  2\n",
      "\n",
      "Цитозин:  3\n",
      "\n",
      "Тімін:  5\n"
     ]
    }
   ],
   "source": [
    "gen = input(\"Enter your genes: \")\n",
    "\n",
    "gen = gen.upper()\n",
    "A = 0\n",
    "G = 0\n",
    "C = 0\n",
    "T = 0\n",
    "\n",
    "for i in gen:\n",
    "    if(i == 'А'):\n",
    "        A+=1\n",
    "    elif(i == 'Г'):\n",
    "        G += 1\n",
    "    elif (i == 'Ц'):\n",
    "        C += 1\n",
    "    elif (i == 'Т'):\n",
    "        T += 1\n",
    "    else:\n",
    "        print(\"\\n Wrong symbol\")\n",
    "print(\"\\nАденін: \", A)\n",
    "print(\"\\nГуанін: \", G)\n",
    "print(\"\\nЦитозин: \", C)\n",
    "print(\"\\nТімін: \", T)\n"
   ]
  },
  {
   "cell_type": "markdown",
   "id": "bd4cfa1d",
   "metadata": {},
   "source": [
    "<b><div style=\"text-align: center;font-size: 24px;\">Видалення фрагмента</div></b><br>\n",
    "\n",
    "На вхід до програми подається рядок тексту, в якому літера «h» зустрічається щонайменше двічі. Напишіть програму, яка видаляє з цього рядка перше та останнє входження літери «h», а також усі символи, що знаходяться між ними.\n",
    "\n",
    "\n",
    "<b>Sample Input</b><br>\n",
    "ahahahahaha\n",
    "\n",
    "<b>Sample Output</b><br> \n",
    "aa\n",
    "\n",
    "\n",
    "\n",
    "\n",
    "\n"
   ]
  },
  {
   "cell_type": "code",
   "execution_count": 13,
   "id": "e783a8b4",
   "metadata": {},
   "outputs": [
    {
     "name": "stdout",
     "output_type": "stream",
     "text": [
      "Enter your line: asyhhhksaalsaphhqwertyha\n",
      "asya\n"
     ]
    }
   ],
   "source": [
    "line = input(\"Enter your line: \")\n",
    "\n",
    "a = line.find('h')\n",
    "b = line.rfind('h')\n",
    "\n",
    "remove = line[a:b+1]\n",
    "print(line.replace(remove, ''))"
   ]
  },
  {
   "cell_type": "markdown",
   "id": "8ac9f6c0",
   "metadata": {},
   "source": [
    "<b><div style=\"text-align: center;font-size: 24px;\">Перше та останнє входження</div></b><br>\n",
    "\n",
    "\n",
    "На вхід до програми подається рядок тексту. Якщо в цьому рядку літера f зустрічається тільки один раз, виведіть її індекс. Якщо вона зустрічається два і більше разів, виведіть індекс першого і останнього входження на одному рядку, розділених символом пробілу. Якщо літера \"f\" у цьому рядку не зустрічається, слід вивести \"NO\".\n",
    "\n",
    "\n",
    "<b>Sample Input</b><br>\n",
    "abcdefg\n",
    "\n",
    "<b>Sample Output</b><br> \n",
    "5\n",
    "\n",
    "\n",
    "\n",
    "\n",
    "\n"
   ]
  },
  {
   "cell_type": "code",
   "execution_count": 15,
   "id": "e6eddaff",
   "metadata": {},
   "outputs": [
    {
     "name": "stdout",
     "output_type": "stream",
     "text": [
      "Enter your line: asapffggqwertyfsd\n",
      "4 14\n"
     ]
    }
   ],
   "source": [
    "line = input('Enter your line: ')\n",
    "\n",
    "a = line.count('f')\n",
    "\n",
    "if (a == 1):\n",
    "    print(line.find('f'))\n",
    "elif (a == 0):\n",
    "    print('NO')\n",
    "else:\n",
    "    print(line.find('f'), line.rfind('f'))"
   ]
  },
  {
   "cell_type": "markdown",
   "id": "4a97d73d",
   "metadata": {},
   "source": [
    "<b><div style=\"text-align: center;font-size: 24px;\">Простий шифр</div></b><br>\n",
    "\n",
    "На вхід до програми подається рядок тексту. Напишіть програму, яка перекладає кожен її символ у відповідний код з таблиці символів Unicode.\n",
    "\n",
    "\n",
    "<b>Sample Input</b><br>\n",
    "Hello world!\n",
    "\n",
    "<b>Sample Output</b><br> \n",
    "72 101 108 108 111 32 119 111 114 108 100 33\n",
    "\n",
    "\n",
    "\n",
    "\n"
   ]
  },
  {
   "cell_type": "code",
   "execution_count": 22,
   "id": "e0c577b3",
   "metadata": {},
   "outputs": [
    {
     "name": "stdout",
     "output_type": "stream",
     "text": [
      "Enter your line Hello world!\n",
      "72 101 108 108 111 32 119 111 114 108 100 33 "
     ]
    }
   ],
   "source": [
    "string = input('Enter your line ')\n",
    "\n",
    "for i in string:\n",
    "    print(ord(i), end =' ')"
   ]
  },
  {
   "cell_type": "markdown",
   "id": "fffce25a",
   "metadata": {},
   "source": [
    "<b><div style=\"text-align: center;font-size: 24px;\">Шифр Цезаря 🌶️</div></b><br>\n",
    "\n",
    "Легіон Цезаря, створений у 23 столітті на основі Римської Імперії не зраджує давніх традицій і використовує шифр Цезаря. Це їх і підвело, адже цей шифр дуже простий. Однак у постапокаліпсисі люди погано знають усі тонкощі довоєнного світу, тому вчені з НКР не можуть зрозуміти, як потрібно декодувати дані повідомлення. Напишіть програму декодування цього шифру.\n",
    "\n",
    "**Формат вхідних даних**\n",
    "У першому рядку дається число (1≤ n≤ 25) – зсув, у другому рядку дається закодоване повідомлення у вигляді рядка зі малими латинськими літерами.\n",
    "\n",
    "**Формат вихідних даних**\n",
    "Програма має вивести один рядок – декодоване повідомлення. Зверніть увагу на те, що потрібно декодувати повідомлення, а не закодувати.\n",
    "\n",
    "\n",
    "<b>Sample Input</b><br>\n",
    "14  \n",
    "fsfftsfufksttskskt\n",
    "\n",
    "\n",
    "<b>Sample Output</b><br> \n",
    "rerrfergrweffewewf\n",
    "\n",
    "\n",
    "\n",
    "\n",
    "\n",
    "\n"
   ]
  },
  {
   "cell_type": "code",
   "execution_count": 20,
   "id": "7503b4d3",
   "metadata": {},
   "outputs": [
    {
     "name": "stdout",
     "output_type": "stream",
     "text": [
      "Enter a step: 14\n",
      "Enter your sentence: fsfftsfufksttskskt\n",
      "rerrfergrweffewewf"
     ]
    }
   ],
   "source": [
    "n = int(input('Enter a step: '))\n",
    "line = input('Enter your sentence: ')\n",
    "\n",
    "for i in line:\n",
    "    if (ord(i) - n <97):\n",
    "        print(chr(ord(i) - n + 26), end = '')\n",
    "    else:\n",
    "        print(chr(ord(i) - n), end = '')"
   ]
  }
 ],
 "metadata": {
  "kernelspec": {
   "display_name": "Python 3 (ipykernel)",
   "language": "python",
   "name": "python3"
  },
  "language_info": {
   "codemirror_mode": {
    "name": "ipython",
    "version": 3
   },
   "file_extension": ".py",
   "mimetype": "text/x-python",
   "name": "python",
   "nbconvert_exporter": "python",
   "pygments_lexer": "ipython3",
   "version": "3.8.12"
  }
 },
 "nbformat": 4,
 "nbformat_minor": 5
}
