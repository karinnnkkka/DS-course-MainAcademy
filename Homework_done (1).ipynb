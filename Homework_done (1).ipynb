{
 "cells": [
  {
   "cell_type": "markdown",
   "id": "f015b76c",
   "metadata": {
    "id": "f015b76c"
   },
   "source": [
    "<h2 align='center'>Домашнє завдання</h2>"
   ]
  },
  {
   "cell_type": "markdown",
   "id": "dffc00a9",
   "metadata": {
    "id": "dffc00a9"
   },
   "source": [
    "##### Завдання 1. Тестування. (легке)<br>"
   ]
  },
  {
   "cell_type": "markdown",
   "id": "800973c8",
   "metadata": {
    "id": "800973c8"
   },
   "source": [
    "1. Де правильно записано команду виведення тексту повідомлення?<br>\n",
    "    \tа) PRINT (\"Hello World!\")\n",
    "    \tб) print (\"Hello World!\")\n",
    "    \tв) Print (\"Hello World!\")\n",
    "Поясніть свої міркування."
   ]
  },
  {
   "cell_type": "markdown",
   "id": "1f3fd2dc",
   "metadata": {
    "id": "1f3fd2dc"
   },
   "source": [
    "Варіант б, print - вбудована функція, *ну і пайтон не скл, чутливий до регістру, тому pRiNt точно не спрацює :)*"
   ]
  },
  {
   "cell_type": "markdown",
   "id": "1bbd4e61",
   "metadata": {
    "id": "1bbd4e61"
   },
   "source": [
    "2. Де правильно записано коментар у програмі?<br>\n",
    "    \tа) @ Проводимо реєстрацію\n",
    "    \tб) $ Обчислюємо прибуток\n",
    "    \tв) # Виведення даних у файл\n",
    "    \tг) & Завершення роботи програми.\n",
    "Поясніть, чому ви так вирішили."
   ]
  },
  {
   "cell_type": "markdown",
   "id": "a22c8ee1",
   "metadata": {},
   "source": [
    "Варіант в, решітка використовується для створення однорядкових коментарів"
   ]
  },
  {
   "cell_type": "markdown",
   "id": "6e077a8c",
   "metadata": {
    "id": "6e077a8c"
   },
   "source": [
    "3. Де правильно записано команду введення текста з консолі?<br>\n",
    "        а) name=input (\"Як вас звати?\")\n",
    "        б) name=Input (\"Як вас звати?\")\n",
    "        в) name=INPUT (\"Як вас звати?\")\n",
    "Що буде, якщо не використати змінну name? Що таке змінна?"
   ]
  },
  {
   "cell_type": "markdown",
   "id": "97b315aa",
   "metadata": {
    "id": "97b315aa"
   },
   "source": [
    "Варіант а. Якщо не використати змінну name і залишити код починаючи з команди input, код працюватиме, однак дані ніде не збережуться тому практична цінність цього коду близько 0, хіба що передавати окремо цей рядок у кожну операцію, але сенсу від того ще менше). Змінна - ділянка пам'яті у якій зберігається певне значення величини, яке може змінюватися під час виконання коду."
   ]
  },
  {
   "cell_type": "markdown",
   "id": "c9781a72",
   "metadata": {
    "id": "c9781a72"
   },
   "source": [
    "4. Поясніть, яких помилок допустився початківець-програміст у кожному випадку:<br>\n",
    "    \tа) text = Hello World\n",
    "    \tб) text = \"Hello World\n",
    "    \tв) text = \"Hello World'"
   ]
  },
  {
   "cell_type": "markdown",
   "id": "cbc68ce1",
   "metadata": {
    "id": "cbc68ce1"
   },
   "source": [
    "У першому варіанті не використані лапки, які є обов'язковими для роботи з str-змінними. У другому випадку ці лапки не закриті і в останньому варіанті використані різнілапки на початку і в кінці змінної, пайтон їх розпізнає як не закриті."
   ]
  },
  {
   "cell_type": "markdown",
   "id": "b003966f",
   "metadata": {
    "id": "b003966f"
   },
   "source": [
    "5. Відшукайте команди, виконання яких не буде супроводжуватися повідомленням про помилку:<br>\n",
    "    \tа) x = \"10\"+5\n",
    "    \tб) x = \"Hello \" + \"World\"\n",
    "    \tв) x = \"Ваш прибуток: \" + 10\n",
    "    \tг) x = \"Ваш прибуток: \" + \"10\""
   ]
  },
  {
   "cell_type": "markdown",
   "id": "cfcb2b20",
   "metadata": {
    "id": "cfcb2b20"
   },
   "source": [
    "Команди б і г, операції над одним і тим самим типом даних."
   ]
  },
  {
   "cell_type": "markdown",
   "id": "cf3a8db2",
   "metadata": {
    "id": "cf3a8db2"
   },
   "source": [
    "6. Поясніть, що означають введені нижче команди:<br>\n",
    "    \tа) x = int (\"4311\")\n",
    "    \tб) y = int (y)\n",
    "    \tв) z = float (z)\n",
    "    \tг) k = str (1284)\n",
    "    \tд) a = int(input(\"Введіть свій зріст\"))"
   ]
  },
  {
   "cell_type": "markdown",
   "id": "a4de3599",
   "metadata": {
    "id": "a4de3599"
   },
   "source": [
    "а) Присвоєння змінній х значення 4311 (грубо кажучи str to int)<br>\n",
    "б) Перетворення змінної y на ціле число (але не округлення, наприклад якщо y = 19.8, то після виконання команди його значення буде 19)<br>\n",
    "в) Перетворення змінної z на значення з плаваючою крапкою (наприклад, 12.55667 або 12.0000 якщо z з самого початку було цілим)<br>\n",
    "г) Зворотня до а) команда - присвоєння змінній k стрінгового значення \"1284\"<br>\n",
    "д) Запис у змінну а значення з клавіатури, у форматі int<br>"
   ]
  },
  {
   "cell_type": "markdown",
   "id": "a75c5b71",
   "metadata": {
    "id": "a75c5b71"
   },
   "source": [
    "##### Завдання 2. Арифметичні дії. (легке)<br>\n",
    "Виконайте у середовищі інтерпретатора такі команди (просто введіть їх так, як показано тут, і дізнайтеся результат).\n",
    "<p align='center'>\n",
    "125/4<br>\n",
    "125//4 <br>\n",
    "125%4  <br>\n",
    "45*4  <br>\n",
    "11**2  <br>\n",
    "1024-4  <br>\n",
    "125+15  <br>\n",
    "</p>"
   ]
  },
  {
   "cell_type": "code",
   "execution_count": 1,
   "id": "4eff76e4",
   "metadata": {
    "id": "4eff76e4"
   },
   "outputs": [
    {
     "data": {
      "text/plain": [
       "31.25"
      ]
     },
     "execution_count": 1,
     "metadata": {},
     "output_type": "execute_result"
    }
   ],
   "source": [
    "125 / 4"
   ]
  },
  {
   "cell_type": "code",
   "execution_count": 2,
   "id": "e8214b55",
   "metadata": {
    "id": "e8214b55"
   },
   "outputs": [
    {
     "data": {
      "text/plain": [
       "31"
      ]
     },
     "execution_count": 2,
     "metadata": {},
     "output_type": "execute_result"
    }
   ],
   "source": [
    "125 // 4"
   ]
  },
  {
   "cell_type": "code",
   "execution_count": 3,
   "id": "1070e710",
   "metadata": {
    "id": "1070e710"
   },
   "outputs": [
    {
     "data": {
      "text/plain": [
       "1"
      ]
     },
     "execution_count": 3,
     "metadata": {},
     "output_type": "execute_result"
    }
   ],
   "source": [
    "125 % 4"
   ]
  },
  {
   "cell_type": "code",
   "execution_count": 4,
   "id": "aa701191",
   "metadata": {
    "id": "aa701191"
   },
   "outputs": [
    {
     "data": {
      "text/plain": [
       "180"
      ]
     },
     "execution_count": 4,
     "metadata": {},
     "output_type": "execute_result"
    }
   ],
   "source": [
    "45 * 4"
   ]
  },
  {
   "cell_type": "code",
   "execution_count": 5,
   "id": "50b7824e",
   "metadata": {
    "id": "50b7824e"
   },
   "outputs": [
    {
     "data": {
      "text/plain": [
       "121"
      ]
     },
     "execution_count": 5,
     "metadata": {},
     "output_type": "execute_result"
    }
   ],
   "source": [
    "11 ** 2"
   ]
  },
  {
   "cell_type": "code",
   "execution_count": 6,
   "id": "bb28f9fc",
   "metadata": {
    "id": "bb28f9fc"
   },
   "outputs": [
    {
     "data": {
      "text/plain": [
       "1020"
      ]
     },
     "execution_count": 6,
     "metadata": {},
     "output_type": "execute_result"
    }
   ],
   "source": [
    "1024 - 4"
   ]
  },
  {
   "cell_type": "code",
   "execution_count": 7,
   "id": "ad684fd3",
   "metadata": {
    "id": "ad684fd3"
   },
   "outputs": [
    {
     "data": {
      "text/plain": [
       "140"
      ]
     },
     "execution_count": 7,
     "metadata": {},
     "output_type": "execute_result"
    }
   ],
   "source": [
    "125 + 15"
   ]
  },
  {
   "cell_type": "markdown",
   "id": "bcf4c269",
   "metadata": {
    "id": "bcf4c269"
   },
   "source": [
    "##### Завдання 3. Максимальне число. (легке)<br>\n",
    "\n",
    "Пошук найбільшого числа: Напишіть програму, яка зчитує кожен елемент зі списку і потім виводить найбільше з введених."
   ]
  },
  {
   "cell_type": "code",
   "execution_count": 13,
   "id": "84c8e183",
   "metadata": {
    "id": "84c8e183"
   },
   "outputs": [
    {
     "data": {
      "text/plain": [
       "99"
      ]
     },
     "execution_count": 13,
     "metadata": {},
     "output_type": "execute_result"
    }
   ],
   "source": [
    "x = [1,5,12,6,9,23,11,99,0,4,7]\n",
    "max (x)"
   ]
  },
  {
   "cell_type": "markdown",
   "id": "022bd760",
   "metadata": {
    "id": "022bd760"
   },
   "source": [
    "##### Завдання 4. Python is awesome. (легке)<br>\n",
    "\n",
    "Напишіть програму, яка виводить слова \"Python is awesome!\" (без лапок) 10 разів."
   ]
  },
  {
   "cell_type": "code",
   "execution_count": 14,
   "id": "8536ce16",
   "metadata": {
    "id": "8536ce16"
   },
   "outputs": [
    {
     "name": "stdout",
     "output_type": "stream",
     "text": [
      "Python is awesome\n",
      "Python is awesome\n",
      "Python is awesome\n",
      "Python is awesome\n",
      "Python is awesome\n",
      "Python is awesome\n",
      "Python is awesome\n",
      "Python is awesome\n",
      "Python is awesome\n",
      "Python is awesome\n"
     ]
    }
   ],
   "source": [
    "for i in range(10):\n",
    "    print ('Python is awesome')"
   ]
  },
  {
   "cell_type": "markdown",
   "id": "42b61047",
   "metadata": {
    "id": "42b61047"
   },
   "source": [
    "##### Завдання 5. Повтори. (легке)<br>\n",
    "\n",
    "Дане речення і кількість разів, яке треба повторити. Напишіть програму, яка повторює це речення потрібну кількість разів. <br>\n",
    "\n",
    "Формат вхідних даних <br>\n",
    "У першому рядку записане речення, у другому – кількість повторень. <br>\n",
    "\n",
    "Формат вихідних даних <br>\n",
    "Програма повинна вивести вказане речення потрібну кількість разів. Кожне повторення має починатися з нового рядка."
   ]
  },
  {
   "cell_type": "code",
   "execution_count": 42,
   "id": "4806095e",
   "metadata": {
    "id": "4806095e"
   },
   "outputs": [
    {
     "name": "stdout",
     "output_type": "stream",
     "text": [
      "Enter your sentence: I want to do it more complicated\n",
      "Enter the number of duplications: 7\n",
      "I want to do it more complicated\n",
      "I want to do it more complicated\n",
      "I want to do it more complicated\n",
      "I want to do it more complicated\n",
      "I want to do it more complicated\n",
      "I want to do it more complicated\n",
      "I want to do it more complicated\n"
     ]
    }
   ],
   "source": [
    "sentence = input(\"Enter your sentence: \")\n",
    "n = int(input(\"Enter the number of duplications: \"))\n",
    "\n",
    "for i in range (n):\n",
    "    print (sentence)"
   ]
  },
  {
   "cell_type": "markdown",
   "id": "db9e1385",
   "metadata": {
    "id": "db9e1385"
   },
   "source": [
    "##### Завдання 6. Зірковий прямокутник. (легке)<br>\n",
    "\n",
    "На вхід до програми подається натуральне число n.<br>\n",
    "\n",
    "Напишіть програму, яка друкує зірковий прямокутник розмірами n×5.<br>\n",
    "Наприклад, якщо n = 3, то має бути такий вивід:\n",
    "<pre>\n",
    "*****\n",
    "*****\n",
    "*****\n",
    "</pre>"
   ]
  },
  {
   "cell_type": "code",
   "execution_count": 16,
   "id": "f45adefa",
   "metadata": {
    "id": "f45adefa"
   },
   "outputs": [
    {
     "name": "stdout",
     "output_type": "stream",
     "text": [
      "Enter n: 7\n",
      "*****\n",
      "*****\n",
      "*****\n",
      "*****\n",
      "*****\n",
      "*****\n",
      "*****\n"
     ]
    }
   ],
   "source": [
    "n = int(input(\"Enter n: \"))\n",
    "\n",
    "if (n > 0):\n",
    "    for i in range (n):\n",
    "        print (\"*****\")\n",
    "else:\n",
    "    print (\"invalid n\")"
   ]
  },
  {
   "cell_type": "markdown",
   "id": "d5e106b3",
   "metadata": {
    "id": "d5e106b3"
   },
   "source": [
    "##### Завдання 7. Друга цифра. (середнє)<br>\n",
    "\n",
    "Дано натуральне число n(n>9). Напишіть програму, яка визначає його другу (з початку) цифру.<br>\n",
    "Зразок введення:<br>\n",
    "455672<br>\n",
    "Зразок результату:<br>\n",
    "5"
   ]
  },
  {
   "cell_type": "code",
   "execution_count": 19,
   "id": "a9791c1f",
   "metadata": {
    "id": "a9791c1f"
   },
   "outputs": [
    {
     "name": "stdout",
     "output_type": "stream",
     "text": [
      "Enter your number: 23818392\n",
      "3\n"
     ]
    }
   ],
   "source": [
    "n = int(input(\"Enter your number: \"))\n",
    "\n",
    "if (n > 9):\n",
    "    while(n > 100):\n",
    "        n = n // 10\n",
    "    a = n % 10\n",
    "    print (a)\n",
    "else:\n",
    "    print(\"number should be greater than 9\")"
   ]
  },
  {
   "cell_type": "markdown",
   "id": "c7e1412c",
   "metadata": {
    "id": "c7e1412c"
   },
   "source": [
    "##### Завдання 8. Додавання. (середнє)<br>\n",
    "\n",
    "Дано натуральное число n(n≤9). Напишіть програму, яка друкує таблицю додавання для всіх чисел від 1 до n (включно) у відповідності з прикладом.<br>\n",
    "Зразок введення:<br>\n",
    "3<br>\n",
    "Приклад результату:<br>\n",
    "1 + 1 = 2<br>\n",
    "1 + 2 = 3<br>\n",
    "1 + 3 = 4<br>\n",
    "1 + 4 = 5<br>\n",
    "1 + 5 = 6<br>\n",
    "1 + 6 = 7<br>\n",
    "1 + 7 = 8<br>\n",
    "1 + 8 = 9<br>\n",
    "1 + 9 = 10<br>\n",
    "\n",
    "2 + 1 = 3<br>\n",
    "2 + 2 = 4<br>\n",
    "2 + 3 = 5<br>\n",
    "2 + 4 = 6<br>\n",
    "2 + 5 = 7<br>\n",
    "2 + 6 = 8<br>\n",
    "2 + 7 = 9<br>\n",
    "2 + 8 = 10<br>\n",
    "2 + 9 = 11<br>\n",
    "\n",
    "3 + 1 = 4<br>\n",
    "3 + 2 = 5<br>\n",
    "3 + 3 = 6<br>\n",
    "3 + 4 = 7<br>\n",
    "3 + 5 = 8<br>\n",
    "3 + 6 = 9<br>\n",
    "3 + 7 = 10<br>\n",
    "3 + 8 = 11<br>\n",
    "3 + 9 = 12"
   ]
  },
  {
   "cell_type": "code",
   "execution_count": 33,
   "id": "66068092",
   "metadata": {
    "id": "66068092"
   },
   "outputs": [
    {
     "name": "stdout",
     "output_type": "stream",
     "text": [
      "Enter your number: 5\n",
      "1  +  1  =  2\n",
      "1  +  2  =  3\n",
      "1  +  3  =  4\n",
      "1  +  4  =  5\n",
      "1  +  5  =  6\n",
      "1  +  6  =  7\n",
      "1  +  7  =  8\n",
      "1  +  8  =  9\n",
      "1  +  9  =  10\n",
      "\n",
      "\n",
      "2  +  1  =  3\n",
      "2  +  2  =  4\n",
      "2  +  3  =  5\n",
      "2  +  4  =  6\n",
      "2  +  5  =  7\n",
      "2  +  6  =  8\n",
      "2  +  7  =  9\n",
      "2  +  8  =  10\n",
      "2  +  9  =  11\n",
      "\n",
      "\n",
      "3  +  1  =  4\n",
      "3  +  2  =  5\n",
      "3  +  3  =  6\n",
      "3  +  4  =  7\n",
      "3  +  5  =  8\n",
      "3  +  6  =  9\n",
      "3  +  7  =  10\n",
      "3  +  8  =  11\n",
      "3  +  9  =  12\n",
      "\n",
      "\n",
      "4  +  1  =  5\n",
      "4  +  2  =  6\n",
      "4  +  3  =  7\n",
      "4  +  4  =  8\n",
      "4  +  5  =  9\n",
      "4  +  6  =  10\n",
      "4  +  7  =  11\n",
      "4  +  8  =  12\n",
      "4  +  9  =  13\n",
      "\n",
      "\n",
      "5  +  1  =  6\n",
      "5  +  2  =  7\n",
      "5  +  3  =  8\n",
      "5  +  4  =  9\n",
      "5  +  5  =  10\n",
      "5  +  6  =  11\n",
      "5  +  7  =  12\n",
      "5  +  8  =  13\n",
      "5  +  9  =  14\n",
      "\n",
      "\n"
     ]
    }
   ],
   "source": [
    "n = int(input(\"Enter your number: \"))\n",
    "\n",
    "if ((n > 0) & (n <= 9)):\n",
    "    for i in range (1,n+1):\n",
    "        for j in range (1,10):\n",
    "            print (i, ' + ',j, ' = ', i+j)\n",
    "        print ('\\n')\n",
    "else:\n",
    "    print ('You should type in a number from 1 to 9')"
   ]
  },
  {
   "cell_type": "markdown",
   "id": "31c0662b",
   "metadata": {
    "id": "31c0662b"
   },
   "source": [
    "##### Завдання 9. Кількість кубів.(середнє) <br>\n",
    "\n",
    "На вхід програмі подаються два цілих числа a і b(a≤b).\n",
    "Напишіть програму, яка підраховує кількість чисел у діапазоні від a до b включно, куб яких закінчується на 4 або 9."
   ]
  },
  {
   "cell_type": "code",
   "execution_count": 41,
   "id": "46c9a9a4",
   "metadata": {
    "id": "46c9a9a4"
   },
   "outputs": [
    {
     "name": "stdout",
     "output_type": "stream",
     "text": [
      "Enter the first number: 1\n",
      "Enter the second number: 33\n",
      "6\n"
     ]
    }
   ],
   "source": [
    "a = int(input('Enter the first number: '))\n",
    "b = int(input('Enter the second number: '))\n",
    "\n",
    "counter = 0\n",
    "\n",
    "if (a <= b):\n",
    "    for i in range (a, b + 1):\n",
    "        #print(i ** 3)\n",
    "        if((i ** 3 % 10 == 4) | (i ** 3 % 10 == 9)):\n",
    "            counter += 1\n",
    "    print (counter)\n",
    "else:\n",
    "    print ('The first number should be smaller that the second')"
   ]
  },
  {
   "cell_type": "markdown",
   "id": "36085dbd",
   "metadata": {
    "id": "36085dbd"
   },
   "source": [
    "##### Завдання 10. Парність. (складне)<br>\n",
    "\n",
    "Напишіть програму, яка зчитує послідовність із 10 цілих чисел і визначає чи є кожне з них парним чи ні.<br>\n",
    "\n",
    "Формат вхідних даних<br>\n",
    "На вхід до програми подаються 10 цілих чисел, кожне на окремому рядку.<br>\n",
    "\n",
    "Формат вихідних даних<br>\n",
    "Програма повинна вивести рядок \"YES\", якщо всі числа парні та \"NO\" в іншому випадку."
   ]
  },
  {
   "cell_type": "code",
   "execution_count": 44,
   "id": "0e6629fb",
   "metadata": {
    "id": "0e6629fb"
   },
   "outputs": [
    {
     "name": "stdout",
     "output_type": "stream",
     "text": [
      "Enter your number: 1\n",
      "Enter your number: 2\n",
      "Enter your number: 4\n",
      "Enter your number: 6\n",
      "Enter your number: 8\n",
      "Enter your number: 4\n",
      "Enter your number: 10\n",
      "Enter your number: 23\n",
      "Enter your number: 22\n",
      "Enter your number: 24\n",
      "NO\n"
     ]
    }
   ],
   "source": [
    "counter = 0\n",
    "\n",
    "for i in range (10):\n",
    "    i = int(input(\"Enter your number: \"))\n",
    "    if (i % 2 != 0):\n",
    "        counter += 1\n",
    "\n",
    "if (counter == 0):\n",
    "    print (\"YES\")\n",
    "else:\n",
    "    print (\"NO\")"
   ]
  }
 ],
 "metadata": {
  "colab": {
   "provenance": []
  },
  "kernelspec": {
   "display_name": "Python 3 (ipykernel)",
   "language": "python",
   "name": "python3"
  },
  "language_info": {
   "codemirror_mode": {
    "name": "ipython",
    "version": 3
   },
   "file_extension": ".py",
   "mimetype": "text/x-python",
   "name": "python",
   "nbconvert_exporter": "python",
   "pygments_lexer": "ipython3",
   "version": "3.8.12"
  }
 },
 "nbformat": 4,
 "nbformat_minor": 5
}
