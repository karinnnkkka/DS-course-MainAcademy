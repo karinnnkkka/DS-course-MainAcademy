{
 "cells": [
  {
   "cell_type": "markdown",
   "id": "ad54cdc2",
   "metadata": {},
   "source": [
    "<b><div style=\"text-align: center;font-size: 24px;\">Вміст файлу</div></b><br>\n",
    "\n",
    "На вхід до програми подається рядок з ім'ям текстового файлу. Напишіть програму, яка відображає його вміст.\n",
    "\n",
    "**Формат вхідних даних**  \n",
    "На вхід до програми подається рядок тексту з ім'ям існуючого текстового файлу.\n",
    "\n",
    "**Формат вихідних даних**  \n",
    "Програма повинна вивести вміст файлу.\n",
    "\n",
    "<br>\n",
    "\n",
    "**Примітка 1.** Вважайте, що програма та вказаний файл знаходяться в одній папці.\n",
    "\n",
    "**Примітка 2.** Не забудьте закрити файл 🙂.\n",
    "\n",
    "\n"
   ]
  },
  {
   "cell_type": "code",
   "execution_count": 11,
   "id": "e5708295",
   "metadata": {},
   "outputs": [
    {
     "name": "stdout",
     "output_type": "stream",
     "text": [
      "Enter the file to read: file.txt\n",
      "This is the first line\n",
      "Idk what to write there\n",
      "Anything else\n",
      "Just line\n",
      "Final line\n"
     ]
    }
   ],
   "source": [
    "files = input('Enter the file to read: ')\n",
    "f = open(files, 'r')\n",
    "print(f.read())\n",
    "f.close()"
   ]
  },
  {
   "cell_type": "markdown",
   "id": "d31a7478",
   "metadata": {},
   "source": [
    "<b><div style=\"text-align: center;font-size: 24px;\">Передостанній рядок</div></b><br>\n",
    "\n",
    "На вхід до програми подається рядок з ім'ям текстового файлу. Напишіть програму, яка виводить на екран його передостанній рядок.\n",
    "\n",
    "**Формат вхідних даних**  \n",
    "На вхід до програми подається рядок тексту з ім'ям існуючого текстового файлу.\n",
    "\n",
    "**Формат вихідних даних**  \n",
    "Програма має вивести передостанній рядок вказаного файлу.\n",
    "\n",
    "<br>\n",
    "\n",
    "**Примітка 1.** Вважайте, що програма та вказаний файл знаходяться в одній папці.\n",
    "\n",
    "**Примітка 2.** Гарантується, що файл містить хоча б два рядки.\n",
    "\n",
    "**Примітка 3.** Не забудьте закрити файл 🙂.\n",
    "\n",
    "\n",
    "\n",
    "\n"
   ]
  },
  {
   "cell_type": "code",
   "execution_count": 12,
   "id": "4e29bc59",
   "metadata": {},
   "outputs": [
    {
     "name": "stdout",
     "output_type": "stream",
     "text": [
      "Enter the file to read: file.txt\n",
      "Just line\n"
     ]
    }
   ],
   "source": [
    "files = input('Enter the file to read: ')\n",
    "f = open(files, 'r')\n",
    "lines = f.read().split('\\n')\n",
    "print(lines[-2])\n",
    "f.close()"
   ]
  },
  {
   "cell_type": "markdown",
   "id": "cbc804ac",
   "metadata": {},
   "source": [
    "<b><div style=\"text-align: center;font-size: 24px;\">Випадковий рядок</div></b><br>\n",
    "\n",
    "Вам доступний текстовий файл lines.txt з кількох рядків. Напишіть програму, яка виводить на екран випадковий рядок із цього файлу.\n",
    "\n",
    "**Формат вхідних даних**  \n",
    "На вхід до програми нічого не подається.\n",
    "\n",
    "**Формат вихідних даних**  \n",
    "Програма має вивести випадковий рядок вказаного файлу.\n",
    "\n",
    "<br>\n",
    "\n",
    "**Примітка 1.** Вважайте, що програма та вказаний файл знаходяться в одній папці.\n",
    "\n",
    "**Примітка 2.** Гарантується, що файл містить хоча б один рядок.\n",
    "\n",
    "**Примітка 3.** Не забудьте закрити файл 🙂.\n",
    "\n",
    "**Примітка 4.** Зазначений файл можна завантажити за [посиланням](https://stepik.org/media/attachments/lesson/519125/lines.txt).\n",
    "\n",
    "\n",
    "\n",
    "\n",
    "\n"
   ]
  },
  {
   "cell_type": "code",
   "execution_count": 18,
   "id": "2237c2dd",
   "metadata": {},
   "outputs": [
    {
     "name": "stdout",
     "output_type": "stream",
     "text": [
      "Anything else\n"
     ]
    }
   ],
   "source": [
    "# сайт cannot be reached, тому заюзаю перший файл:\n",
    "\n",
    "import random as rd\n",
    "f = open('file.txt', 'r')\n",
    "lines = f.read().split('\\n')\n",
    "\n",
    "n = rd.randint(0,len(lines))\n",
    "\n",
    "print(lines[n])\n",
    "f.close()"
   ]
  },
  {
   "cell_type": "markdown",
   "id": "213d8bab",
   "metadata": {},
   "source": [
    "<b><div style=\"text-align: center;font-size: 24px;\">Сума двох</div></b><br>\n",
    "\n",
    "Доступний текстовий файл nums.txt. У файлі записано два цілих числа, вони можуть бути розділені символами пропуску та кінця рядка. Напишіть програму, яка відображає суму цих чисел.\n",
    "\n",
    "**Формат вхідних даних**  \n",
    "На вхід до програми нічого не подається.\n",
    "\n",
    "**Формат вихідних даних**  \n",
    "Програма повинна вивести суму чисел із зазначеного файлу.\n",
    "\n",
    "<br>\n",
    "\n",
    "**Примітка 1.** Вважайте, що програма та вказаний файл знаходяться в одній папці.\n",
    "\n",
    "**Примітка 2.** Не забудьте закрити файл 🙂.\n",
    "\n",
    "**Примітка 3.** Зазначений файл можна завантажити за [посиланням](https://stepik.org/media/attachments/lesson/519125/nums.txt).\n"
   ]
  },
  {
   "cell_type": "code",
   "execution_count": 50,
   "id": "d7c044d8",
   "metadata": {},
   "outputs": [
    {
     "name": "stdout",
     "output_type": "stream",
     "text": [
      "453491626\n"
     ]
    }
   ],
   "source": [
    "# this website cannot be reached \n",
    "\n",
    "\n",
    "f = open('nums.txt')\n",
    "numbers = f.read().split()\n",
    "\n",
    "print(sum(map(int, numbers)))\n",
    "\n",
    "f.close()"
   ]
  },
  {
   "cell_type": "markdown",
   "id": "56e62a17",
   "metadata": {},
   "source": [
    "<b><div style=\"text-align: center;font-size: 24px;\">Загальна вартість</div></b><br>\n",
    "\n",
    "Вам доступний текстовий файл prices.txt з інформацією про замовлення в інтернет магазині. У ньому кожен рядок за допомогою символу табуляції (\\t) поділено на три колонки:\n",
    "\n",
    "Найменування товару;\n",
    "- кількість товару (ціле число);\n",
    "- ціна (у рублях) товару за 1 шт (ціле число).\n",
    "- Напишіть програму, яка виводить на екран загальну вартість замовлення.\n",
    "\n",
    "**Формат вхідних даних**  \n",
    "На вхід до програми нічого не подається.\n",
    "\n",
    "**Формат вихідних даних**  \n",
    "Програма має вивести загальну вартість замовлення.\n",
    "\n",
    "<br>\n",
    "\n",
    "**Примітка 1.** Вважайте, що програма та вказаний файл знаходяться в одній папці.\n",
    "\n",
    "**Примітка 2.** Не забудьте закрити файл 🙂.\n",
    "\n",
    "**Примітка 3.** Зазначений файл можна завантажити за [посиланням](https://stepik.org/media/attachments/lesson/519125/prices.txt).\n"
   ]
  },
  {
   "cell_type": "code",
   "execution_count": 43,
   "id": "34908d49",
   "metadata": {},
   "outputs": [
    {
     "name": "stdout",
     "output_type": "stream",
     "text": [
      "1286800\n"
     ]
    }
   ],
   "source": [
    "# this file is not available \n",
    "\n",
    "f = open('prices.txt')\n",
    "suma = 0\n",
    "\n",
    "for _ in f:\n",
    "    i = _.split('\\t')\n",
    "    suma += int(i[1]) * int(i[2])\n",
    "    \n",
    "print(suma)\n",
    "f.close()"
   ]
  },
  {
   "cell_type": "markdown",
   "id": "69d3c073",
   "metadata": {},
   "source": [
    "<b><div style=\"text-align: center;font-size: 24px;\">Статистика файлу</div></b><br>\n",
    "\n",
    "Вам доступний текстовий файл file.txt, набраний латиницею. Напишіть програму, яка виводить кількість літер латинського алфавіту, слів та рядків. Виведіть три знайдені числа у форматі, наведеному у прикладі.\n",
    "\n",
    "**Формат вхідних даних**  \n",
    "На вхід до програми нічого не подається.\n",
    "\n",
    "**Формат вихідних даних**  \n",
    "Програма повинна вивести три знайдені числа у форматі, наведеному у прикладі.  \n",
    "\n",
    "<br>\n",
    "\n",
    "**Примітка 1.** Якби файл file.txt містив рядки:\n",
    "\n",
    "Beautiful is better than ugly.  \n",
    "Explicit is better than implicit.  \n",
    "Simple is better than complex.  \n",
    "Complex is better than complicated.  \n",
    "то результатом було б:  \n",
    "\n",
    "<br>\n",
    "\n",
    "Input file contains:  \n",
    "108 letters  \n",
    "20 words  \n",
    "4 lines  \n",
    "\n",
    "**Примітка 2.** Словом називається послідовність із непробільних символів. Наприклад, рядок\n",
    "\n",
    "abc a21 67pop <span style=\"color: white;\">gsdgtsdgsdgg</span> qwert bo7ok 83456\n",
    "\n",
    "містить 6 слів: abc, a21, 67pop, qwert, bo7ok, 83456.\n",
    "\n",
    "**Примітка 3.** Зазначений файл можна завантажити за [посиланням](https://stepik.org/media/attachments/lesson/530408/file.txt)."
   ]
  },
  {
   "cell_type": "code",
   "execution_count": 42,
   "id": "44e8ab12",
   "metadata": {},
   "outputs": [
    {
     "name": "stdout",
     "output_type": "stream",
     "text": [
      "229 letters\n",
      "218 words\n",
      "12 lines\n"
     ]
    }
   ],
   "source": [
    "f = open('files.txt').read()\n",
    "\n",
    "letters = f.split()\n",
    "\n",
    "print(len(letters), 'letters')\n",
    "\n",
    "words = f.split(' ')\n",
    "\n",
    "print(len(words), 'words')\n",
    "\n",
    "lines = f.split('\\n')\n",
    "\n",
    "print(len(lines), 'lines')"
   ]
  },
  {
   "cell_type": "markdown",
   "id": "67cb6554",
   "metadata": {},
   "source": [
    "<b><div style=\"text-align: center;font-size: 24px;\">CSV-файл</div></b><br>\n",
    "\n",
    "Вам доступний файл CSV data.csv, що містить інформацію в csv форматі. Напишіть функцію read_csv для читання даних із цього файлу. Вона повинна повертати список словників, інтерпретуючи перший рядок як імена ключів, а кожен наступний рядок як значення цих ключів.\n",
    "\n",
    "**Формат вхідних даних**  \n",
    "На вхід до програми нічого не подається.\n",
    "\n",
    "**Формат вихідних даних**  \n",
    "Програма має містити реалізовану функцію read_csv.\n",
    "\n",
    "**Примітка 1.** Викликати функцію read_csv не потрібно.\n",
    "\n",
    "**Примітка 2.** Функція read_csv не повинна приймати аргументи.\n",
    "\n",
    "**Примітка 3.** Докладніше прочитати про CSV-файли можна [тут](https://ru.wikipedia.org/wiki/CSV).\n",
    "\n",
    "**Примітка 4.** Вважайте, що всі ключі та значення цих ключів у результуючому словнику мають рядковий тип (str).\n",
    "\n",
    "**Примітка 5.** Зазначений файл можна завантажити за [посиланням](https://stepik.org/media/attachments/lesson/530408/data.csv).\n",
    "\n",
    "**Примітка 6.** Якби файл data.csv містив інформацію\n",
    "\n",
    "name,address,age  \n",
    "George,4312 Abbey Road,22  \n",
    "John,54 Love Ave,21  \n",
    "то виклик функції read_csv() повернув би список  \n",
    "\n",
    "[{'name': 'George', 'address': '4312 Abbey Road', 'age': '22'}, {'name': 'John', 'address': '54 Love Ave', 'age ': '21'}]"
   ]
  },
  {
   "cell_type": "code",
   "execution_count": 57,
   "id": "271c68a3",
   "metadata": {},
   "outputs": [
    {
     "name": "stdout",
     "output_type": "stream",
     "text": [
      "[{'policyID': '119736', 'statecode': 'FL', 'county': 'CLAY COUNTY', 'eq_site_limit': '498960', 'hu_site_limit': '498960', 'fl_site_limit': '498960', 'fr_site_limit': '498960', 'tiv_2011': '498960', 'tiv_2012': '792148.9', 'eq_site_deductible': '0', 'hu_site_deductible': '9979.2', 'fl_site_deductible': '0', 'fr_site_deductible': '0', 'point_latitude': '30.102261', 'point_longitude': '-81.711777', 'line': 'Residential', 'construction': 'Masonry', 'point_granularity': '1'}, {'policyID': '448094', 'statecode': 'FL', 'county': 'CLAY COUNTY', 'eq_site_limit': '1322376.3', 'hu_site_limit': '1322376.3', 'fl_site_limit': '1322376.3', 'fr_site_limit': '1322376.3', 'tiv_2011': '1322376.3', 'tiv_2012': '1438163.57', 'eq_site_deductible': '0', 'hu_site_deductible': '0', 'fl_site_deductible': '0', 'fr_site_deductible': '0', 'point_latitude': '30.063936', 'point_longitude': '-81.707664', 'line': 'Residential', 'construction': 'Masonry', 'point_granularity': '3'}, {'policyID': '206893', 'statecode': 'FL', 'county': 'CLAY COUNTY', 'eq_site_limit': '190724.4', 'hu_site_limit': '190724.4', 'fl_site_limit': '190724.4', 'fr_site_limit': '190724.4', 'tiv_2011': '190724.4', 'tiv_2012': '192476.78', 'eq_site_deductible': '0', 'hu_site_deductible': '0', 'fl_site_deductible': '0', 'fr_site_deductible': '0', 'point_latitude': '30.089579', 'point_longitude': '-81.700455', 'line': 'Residential', 'construction': 'Wood', 'point_granularity': '1'}, {'policyID': '333743', 'statecode': 'FL', 'county': 'CLAY COUNTY', 'eq_site_limit': '0', 'hu_site_limit': '79520.76', 'fl_site_limit': '0', 'fr_site_limit': '0', 'tiv_2011': '79520.76', 'tiv_2012': '86854.48', 'eq_site_deductible': '0', 'hu_site_deductible': '0', 'fl_site_deductible': '0', 'fr_site_deductible': '0', 'point_latitude': '30.063236', 'point_longitude': '-81.707703', 'line': 'Residential', 'construction': 'Wood', 'point_granularity': '3'}, {'policyID': '172534', 'statecode': 'FL', 'county': 'CLAY COUNTY', 'eq_site_limit': '0', 'hu_site_limit': '254281.5', 'fl_site_limit': '0', 'fr_site_limit': '254281.5', 'tiv_2011': '254281.5', 'tiv_2012': '246144.49', 'eq_site_deductible': '0', 'hu_site_deductible': '0', 'fl_site_deductible': '0', 'fr_site_deductible': '0', 'point_latitude': '30.060614', 'point_longitude': '-81.702675', 'line': 'Residential', 'construction': 'Wood', 'point_granularity': '1'}, {'policyID': '785275', 'statecode': 'FL', 'county': 'CLAY COUNTY', 'eq_site_limit': '0', 'hu_site_limit': '515035.62', 'fl_site_limit': '0', 'fr_site_limit': '0', 'tiv_2011': '515035.62', 'tiv_2012': '884419.17', 'eq_site_deductible': '0', 'hu_site_deductible': '0', 'fl_site_deductible': '0', 'fr_site_deductible': '0', 'point_latitude': '30.063236', 'point_longitude': '-81.707703', 'line': 'Residential', 'construction': 'Masonry', 'point_granularity': '3'}, {'policyID': '995932', 'statecode': 'FL', 'county': 'CLAY COUNTY', 'eq_site_limit': '0', 'hu_site_limit': '19260000', 'fl_site_limit': '0', 'fr_site_limit': '0', 'tiv_2011': '19260000', 'tiv_2012': '20610000', 'eq_site_deductible': '0', 'hu_site_deductible': '0', 'fl_site_deductible': '0', 'fr_site_deductible': '0', 'point_latitude': '30.102226', 'point_longitude': '-81.713882', 'line': 'Commercial', 'construction': 'Reinforced Concrete', 'point_granularity': '1'}, {'policyID': '223488', 'statecode': 'FL', 'county': 'CLAY COUNTY', 'eq_site_limit': '328500', 'hu_site_limit': '328500', 'fl_site_limit': '328500', 'fr_site_limit': '328500', 'tiv_2011': '328500', 'tiv_2012': '348374.25', 'eq_site_deductible': '0', 'hu_site_deductible': '16425', 'fl_site_deductible': '0', 'fr_site_deductible': '0', 'point_latitude': '30.102217', 'point_longitude': '-81.707146', 'line': 'Residential', 'construction': 'Wood', 'point_granularity': '1'}, {'policyID': '433512', 'statecode': 'FL', 'county': 'CLAY COUNTY', 'eq_site_limit': '315000', 'hu_site_limit': '315000', 'fl_site_limit': '315000', 'fr_site_limit': '315000', 'tiv_2011': '315000', 'tiv_2012': '265821.57', 'eq_site_deductible': '0', 'hu_site_deductible': '15750', 'fl_site_deductible': '0', 'fr_site_deductible': '0', 'point_latitude': '30.118774', 'point_longitude': '-81.704613', 'line': 'Residential', 'construction': 'Wood', 'point_granularity': '1'}, {'policyID': '142071', 'statecode': 'FL', 'county': 'CLAY COUNTY', 'eq_site_limit': '705600', 'hu_site_limit': '705600', 'fl_site_limit': '705600', 'fr_site_limit': '705600', 'tiv_2011': '705600', 'tiv_2012': '1010842.56', 'eq_site_deductible': '14112', 'hu_site_deductible': '35280', 'fl_site_deductible': '0', 'fr_site_deductible': '0', 'point_latitude': '30.100628', 'point_longitude': '-81.703751', 'line': 'Residential', 'construction': 'Masonry', 'point_granularity': '1'}]\n"
     ]
    }
   ],
   "source": [
    "def read_csv():\n",
    "    with open('datas.csv') as f:\n",
    "        key = [line.strip() for line in f.readline().split(',')]\n",
    "        value = [line.strip().split(',') for line in f.readlines()]\n",
    "        \n",
    "    return [dict(zip(key, values)) for values in value]\n",
    "\n",
    "\n",
    "print(read_csv())"
   ]
  },
  {
   "cell_type": "markdown",
   "id": "82b36a40",
   "metadata": {},
   "source": [
    "<b><div style=\"text-align: center;font-size: 24px;\">Лог файл 🌶️</div></b><br>\n",
    "\n",
    "\n",
    "Вам доступний текстовий файл logfile.txt з інформацією про час входу користувача до системи та виходу з неї. Кожен рядок файлу містить три значення, розділені комами та символом пропуску: ім'я користувача, час входу, час виходу, де час вказано в 24-годинний формат.\n",
    "\n",
    "Напишіть програму, яка створює файл output.txt і виводить у нього імена всіх користувачів (не змінюючи порядку проходження), які були в мережі не менше години.\n",
    "\n",
    "**Формат вхідних даних**  \n",
    "На вхід до програми нічого не подається.\n",
    "\n",
    "**Формат вихідних даних**  \n",
    "Програма має створити файл з ім'ям output.txt відповідно до умови завдання.\n",
    "\n",
    "**Примітка 1.** Вважайте, що програма та вказані файли знаходяться в одній папці.\n",
    "\n",
    "**Примітка 2.** Вважайте, що кожен користувач був лише один раз у системі, тобто у файлі немає двох рядків з однаковим користувачем.\n",
    "\n",
    "**Примітка 3.** Якби файл logfile.txt містив рядки:\n",
    "\n",
    "Тимур Гуєв, 14:10, 15:50   \n",
    "Руслан Гриценко, 12:00, 12:59  \n",
    "Роман Гацалов, 09:10, 17:45  \n",
    "Габолаєв Георгій, 11:10, 12:10  \n",
    "то файл output.txt мав би вигляд:  \n",
    "\n",
    "Тимур Гуєв  \n",
    "Роман Гацалов  \n",
    "Габолаєв Георгій  \n",
    "**Примітка 4.** Зазначений файл можна завантажити за [посиланням](https://stepik.org/media/attachments/lesson/519126/logfile.txt)."
   ]
  },
  {
   "cell_type": "code",
   "execution_count": 74,
   "id": "19f1f057",
   "metadata": {},
   "outputs": [
    {
     "name": "stdout",
     "output_type": "stream",
     "text": [
      "Тимур Гуев\n",
      "Роман Гацалов\n",
      "Габолаев Георгий\n",
      "Гергиева Светлана\n",
      "Гуева Лариса\n",
      "Засеев Ирбек\n",
      "Гуева Лиза\n",
      "Харисов Артур\n",
      "Янченко Роман\n"
     ]
    }
   ],
   "source": [
    "from datetime import timedelta\n",
    "\n",
    "f = open('logfile.txt', encoding = 'utf-8')\n",
    "out = open('output.txt', 'a', encoding = 'utf-8')\n",
    "\n",
    "for i in f:\n",
    "    name, beg, end = i.split(', ')\n",
    "    starth, startm = beg.split(':')\n",
    "    stoph, stopm = end.split(':')\n",
    "    if timedelta(hours = int(stoph), minutes = int(stopm)) - timedelta(hours = int(starth), minutes = int(startm)) > timedelta(hours = 0, minutes = 59):\n",
    "        print(name)\n",
    "        out.write(name)\n",
    "        out.write('\\n')\n",
    "        \n",
    "\n",
    "f.close()\n",
    "out.close()"
   ]
  },
  {
   "cell_type": "code",
   "execution_count": 75,
   "id": "afac553b",
   "metadata": {},
   "outputs": [
    {
     "name": "stdout",
     "output_type": "stream",
     "text": [
      "Тимур Гуев\n",
      "Роман Гацалов\n",
      "Габолаев Георгий\n",
      "Гергиева Светлана\n",
      "Гуева Лариса\n",
      "Засеев Ирбек\n",
      "Гуева Лиза\n",
      "Харисов Артур\n",
      "Янченко Роман\n",
      "\n"
     ]
    }
   ],
   "source": [
    "f = open('output.txt', encoding = 'utf-8')\n",
    "\n",
    "print(f.read())\n",
    "\n",
    "f.close()"
   ]
  }
 ],
 "metadata": {
  "kernelspec": {
   "display_name": "Python 3 (ipykernel)",
   "language": "python",
   "name": "python3"
  },
  "language_info": {
   "codemirror_mode": {
    "name": "ipython",
    "version": 3
   },
   "file_extension": ".py",
   "mimetype": "text/x-python",
   "name": "python",
   "nbconvert_exporter": "python",
   "pygments_lexer": "ipython3",
   "version": "3.8.12"
  }
 },
 "nbformat": 4,
 "nbformat_minor": 5
}
